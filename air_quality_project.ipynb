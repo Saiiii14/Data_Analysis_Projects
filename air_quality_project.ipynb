{
 "cells": [
  {
   "cell_type": "code",
   "execution_count": 89,
   "id": "ff65dca0-a71c-4e5b-9e0a-928b8ca5c0f3",
   "metadata": {},
   "outputs": [],
   "source": [
    "import pandas as pd "
   ]
  },
  {
   "cell_type": "code",
   "execution_count": 90,
   "id": "04ea419d-4ee5-472f-89dc-e3172b0139a0",
   "metadata": {},
   "outputs": [
    {
     "data": {
      "text/html": [
       "<div>\n",
       "<style scoped>\n",
       "    .dataframe tbody tr th:only-of-type {\n",
       "        vertical-align: middle;\n",
       "    }\n",
       "\n",
       "    .dataframe tbody tr th {\n",
       "        vertical-align: top;\n",
       "    }\n",
       "\n",
       "    .dataframe thead th {\n",
       "        text-align: right;\n",
       "    }\n",
       "</style>\n",
       "<table border=\"1\" class=\"dataframe\">\n",
       "  <thead>\n",
       "    <tr style=\"text-align: right;\">\n",
       "      <th></th>\n",
       "      <th>Timestamp</th>\n",
       "      <th>PM2.5</th>\n",
       "    </tr>\n",
       "  </thead>\n",
       "  <tbody>\n",
       "    <tr>\n",
       "      <th>0</th>\n",
       "      <td>01-01-2018 00:00</td>\n",
       "      <td>90.19</td>\n",
       "    </tr>\n",
       "    <tr>\n",
       "      <th>1</th>\n",
       "      <td>01-01-2018 01:00</td>\n",
       "      <td>86.98</td>\n",
       "    </tr>\n",
       "    <tr>\n",
       "      <th>2</th>\n",
       "      <td>01-01-2018 02:00</td>\n",
       "      <td>86.06</td>\n",
       "    </tr>\n",
       "    <tr>\n",
       "      <th>3</th>\n",
       "      <td>01-01-2018 03:00</td>\n",
       "      <td>94.04</td>\n",
       "    </tr>\n",
       "    <tr>\n",
       "      <th>4</th>\n",
       "      <td>01-01-2018 04:00</td>\n",
       "      <td>108.78</td>\n",
       "    </tr>\n",
       "    <tr>\n",
       "      <th>...</th>\n",
       "      <td>...</td>\n",
       "      <td>...</td>\n",
       "    </tr>\n",
       "    <tr>\n",
       "      <th>31856</th>\n",
       "      <td>31-12-2021 19:00</td>\n",
       "      <td>72.25</td>\n",
       "    </tr>\n",
       "    <tr>\n",
       "      <th>31857</th>\n",
       "      <td>31-12-2021 20:00</td>\n",
       "      <td>71.56</td>\n",
       "    </tr>\n",
       "    <tr>\n",
       "      <th>31858</th>\n",
       "      <td>31-12-2021 21:00</td>\n",
       "      <td>70.27</td>\n",
       "    </tr>\n",
       "    <tr>\n",
       "      <th>31859</th>\n",
       "      <td>31-12-2021 22:00</td>\n",
       "      <td>66.78</td>\n",
       "    </tr>\n",
       "    <tr>\n",
       "      <th>31860</th>\n",
       "      <td>31-12-2021 23:00</td>\n",
       "      <td>61.29</td>\n",
       "    </tr>\n",
       "  </tbody>\n",
       "</table>\n",
       "<p>31861 rows × 2 columns</p>\n",
       "</div>"
      ],
      "text/plain": [
       "              Timestamp   PM2.5\n",
       "0      01-01-2018 00:00   90.19\n",
       "1      01-01-2018 01:00   86.98\n",
       "2      01-01-2018 02:00   86.06\n",
       "3      01-01-2018 03:00   94.04\n",
       "4      01-01-2018 04:00  108.78\n",
       "...                 ...     ...\n",
       "31856  31-12-2021 19:00   72.25\n",
       "31857  31-12-2021 20:00   71.56\n",
       "31858  31-12-2021 21:00   70.27\n",
       "31859  31-12-2021 22:00   66.78\n",
       "31860  31-12-2021 23:00   61.29\n",
       "\n",
       "[31861 rows x 2 columns]"
      ]
     },
     "execution_count": 90,
     "metadata": {},
     "output_type": "execute_result"
    }
   ],
   "source": [
    "data=pd.read_csv(r\"C:\\Users\\Sai Sailesh\\Downloads\\air-quality-data.csv\")\n",
    "data"
   ]
  },
  {
   "cell_type": "code",
   "execution_count": 91,
   "id": "6fb80256-d45d-4e6e-af18-244d96e73364",
   "metadata": {},
   "outputs": [
    {
     "name": "stdout",
     "output_type": "stream",
     "text": [
      "<class 'pandas.core.frame.DataFrame'>\n",
      "RangeIndex: 31861 entries, 0 to 31860\n",
      "Data columns (total 2 columns):\n",
      " #   Column     Non-Null Count  Dtype  \n",
      "---  ------     --------------  -----  \n",
      " 0   Timestamp  31861 non-null  object \n",
      " 1   PM2.5      31861 non-null  float64\n",
      "dtypes: float64(1), object(1)\n",
      "memory usage: 498.0+ KB\n"
     ]
    }
   ],
   "source": [
    "data.info()"
   ]
  },
  {
   "cell_type": "code",
   "execution_count": 92,
   "id": "bdda6975-1447-47c8-9c25-198ec151773d",
   "metadata": {},
   "outputs": [
    {
     "data": {
      "text/html": [
       "<div>\n",
       "<style scoped>\n",
       "    .dataframe tbody tr th:only-of-type {\n",
       "        vertical-align: middle;\n",
       "    }\n",
       "\n",
       "    .dataframe tbody tr th {\n",
       "        vertical-align: top;\n",
       "    }\n",
       "\n",
       "    .dataframe thead th {\n",
       "        text-align: right;\n",
       "    }\n",
       "</style>\n",
       "<table border=\"1\" class=\"dataframe\">\n",
       "  <thead>\n",
       "    <tr style=\"text-align: right;\">\n",
       "      <th></th>\n",
       "      <th>DateTime</th>\n",
       "      <th>PM2.5</th>\n",
       "    </tr>\n",
       "  </thead>\n",
       "  <tbody>\n",
       "    <tr>\n",
       "      <th>0</th>\n",
       "      <td>01-01-2018 00:00</td>\n",
       "      <td>90.19</td>\n",
       "    </tr>\n",
       "    <tr>\n",
       "      <th>1</th>\n",
       "      <td>01-01-2018 01:00</td>\n",
       "      <td>86.98</td>\n",
       "    </tr>\n",
       "    <tr>\n",
       "      <th>2</th>\n",
       "      <td>01-01-2018 02:00</td>\n",
       "      <td>86.06</td>\n",
       "    </tr>\n",
       "    <tr>\n",
       "      <th>3</th>\n",
       "      <td>01-01-2018 03:00</td>\n",
       "      <td>94.04</td>\n",
       "    </tr>\n",
       "    <tr>\n",
       "      <th>4</th>\n",
       "      <td>01-01-2018 04:00</td>\n",
       "      <td>108.78</td>\n",
       "    </tr>\n",
       "    <tr>\n",
       "      <th>...</th>\n",
       "      <td>...</td>\n",
       "      <td>...</td>\n",
       "    </tr>\n",
       "    <tr>\n",
       "      <th>31856</th>\n",
       "      <td>31-12-2021 19:00</td>\n",
       "      <td>72.25</td>\n",
       "    </tr>\n",
       "    <tr>\n",
       "      <th>31857</th>\n",
       "      <td>31-12-2021 20:00</td>\n",
       "      <td>71.56</td>\n",
       "    </tr>\n",
       "    <tr>\n",
       "      <th>31858</th>\n",
       "      <td>31-12-2021 21:00</td>\n",
       "      <td>70.27</td>\n",
       "    </tr>\n",
       "    <tr>\n",
       "      <th>31859</th>\n",
       "      <td>31-12-2021 22:00</td>\n",
       "      <td>66.78</td>\n",
       "    </tr>\n",
       "    <tr>\n",
       "      <th>31860</th>\n",
       "      <td>31-12-2021 23:00</td>\n",
       "      <td>61.29</td>\n",
       "    </tr>\n",
       "  </tbody>\n",
       "</table>\n",
       "<p>31861 rows × 2 columns</p>\n",
       "</div>"
      ],
      "text/plain": [
       "               DateTime   PM2.5\n",
       "0      01-01-2018 00:00   90.19\n",
       "1      01-01-2018 01:00   86.98\n",
       "2      01-01-2018 02:00   86.06\n",
       "3      01-01-2018 03:00   94.04\n",
       "4      01-01-2018 04:00  108.78\n",
       "...                 ...     ...\n",
       "31856  31-12-2021 19:00   72.25\n",
       "31857  31-12-2021 20:00   71.56\n",
       "31858  31-12-2021 21:00   70.27\n",
       "31859  31-12-2021 22:00   66.78\n",
       "31860  31-12-2021 23:00   61.29\n",
       "\n",
       "[31861 rows x 2 columns]"
      ]
     },
     "execution_count": 92,
     "metadata": {},
     "output_type": "execute_result"
    }
   ],
   "source": [
    "data.rename(columns={'Timestamp':'DateTime'},inplace=True)\n",
    "data"
   ]
  },
  {
   "cell_type": "code",
   "execution_count": 93,
   "id": "a19f6095-8052-4600-948b-f88ef2e6ace2",
   "metadata": {},
   "outputs": [
    {
     "data": {
      "text/html": [
       "<div>\n",
       "<style scoped>\n",
       "    .dataframe tbody tr th:only-of-type {\n",
       "        vertical-align: middle;\n",
       "    }\n",
       "\n",
       "    .dataframe tbody tr th {\n",
       "        vertical-align: top;\n",
       "    }\n",
       "\n",
       "    .dataframe thead th {\n",
       "        text-align: right;\n",
       "    }\n",
       "</style>\n",
       "<table border=\"1\" class=\"dataframe\">\n",
       "  <thead>\n",
       "    <tr style=\"text-align: right;\">\n",
       "      <th></th>\n",
       "      <th>DateTime</th>\n",
       "      <th>PM2.5</th>\n",
       "    </tr>\n",
       "  </thead>\n",
       "  <tbody>\n",
       "    <tr>\n",
       "      <th>0</th>\n",
       "      <td>2018-01-01 00:00:00</td>\n",
       "      <td>90.19</td>\n",
       "    </tr>\n",
       "    <tr>\n",
       "      <th>1</th>\n",
       "      <td>2018-01-01 01:00:00</td>\n",
       "      <td>86.98</td>\n",
       "    </tr>\n",
       "    <tr>\n",
       "      <th>2</th>\n",
       "      <td>2018-01-01 02:00:00</td>\n",
       "      <td>86.06</td>\n",
       "    </tr>\n",
       "    <tr>\n",
       "      <th>3</th>\n",
       "      <td>2018-01-01 03:00:00</td>\n",
       "      <td>94.04</td>\n",
       "    </tr>\n",
       "    <tr>\n",
       "      <th>4</th>\n",
       "      <td>2018-01-01 04:00:00</td>\n",
       "      <td>108.78</td>\n",
       "    </tr>\n",
       "    <tr>\n",
       "      <th>...</th>\n",
       "      <td>...</td>\n",
       "      <td>...</td>\n",
       "    </tr>\n",
       "    <tr>\n",
       "      <th>31856</th>\n",
       "      <td>NaT</td>\n",
       "      <td>72.25</td>\n",
       "    </tr>\n",
       "    <tr>\n",
       "      <th>31857</th>\n",
       "      <td>NaT</td>\n",
       "      <td>71.56</td>\n",
       "    </tr>\n",
       "    <tr>\n",
       "      <th>31858</th>\n",
       "      <td>NaT</td>\n",
       "      <td>70.27</td>\n",
       "    </tr>\n",
       "    <tr>\n",
       "      <th>31859</th>\n",
       "      <td>NaT</td>\n",
       "      <td>66.78</td>\n",
       "    </tr>\n",
       "    <tr>\n",
       "      <th>31860</th>\n",
       "      <td>NaT</td>\n",
       "      <td>61.29</td>\n",
       "    </tr>\n",
       "  </tbody>\n",
       "</table>\n",
       "<p>31861 rows × 2 columns</p>\n",
       "</div>"
      ],
      "text/plain": [
       "                 DateTime   PM2.5\n",
       "0     2018-01-01 00:00:00   90.19\n",
       "1     2018-01-01 01:00:00   86.98\n",
       "2     2018-01-01 02:00:00   86.06\n",
       "3     2018-01-01 03:00:00   94.04\n",
       "4     2018-01-01 04:00:00  108.78\n",
       "...                   ...     ...\n",
       "31856                 NaT   72.25\n",
       "31857                 NaT   71.56\n",
       "31858                 NaT   70.27\n",
       "31859                 NaT   66.78\n",
       "31860                 NaT   61.29\n",
       "\n",
       "[31861 rows x 2 columns]"
      ]
     },
     "execution_count": 93,
     "metadata": {},
     "output_type": "execute_result"
    }
   ],
   "source": [
    "data['DateTime']=pd.to_datetime(data['DateTime'],errors='coerce')\n",
    "data"
   ]
  },
  {
   "cell_type": "code",
   "execution_count": 94,
   "id": "d6c3d780-f412-48ff-9ed1-9dec450ed89d",
   "metadata": {},
   "outputs": [
    {
     "name": "stdout",
     "output_type": "stream",
     "text": [
      "<class 'pandas.core.frame.DataFrame'>\n",
      "RangeIndex: 31861 entries, 0 to 31860\n",
      "Data columns (total 2 columns):\n",
      " #   Column    Non-Null Count  Dtype         \n",
      "---  ------    --------------  -----         \n",
      " 0   DateTime  12812 non-null  datetime64[ns]\n",
      " 1   PM2.5     31861 non-null  float64       \n",
      "dtypes: datetime64[ns](1), float64(1)\n",
      "memory usage: 498.0 KB\n"
     ]
    }
   ],
   "source": [
    "data.info()"
   ]
  },
  {
   "cell_type": "markdown",
   "id": "a1118309-5df3-4b95-8284-ffaea4cd7df5",
   "metadata": {},
   "source": [
    "# 1. Show the Year-wise average pollution with a Line chart."
   ]
  },
  {
   "cell_type": "code",
   "execution_count": 95,
   "id": "59a5286c-947c-489a-9e8f-26a75cc21742",
   "metadata": {},
   "outputs": [
    {
     "data": {
      "text/html": [
       "<div>\n",
       "<style scoped>\n",
       "    .dataframe tbody tr th:only-of-type {\n",
       "        vertical-align: middle;\n",
       "    }\n",
       "\n",
       "    .dataframe tbody tr th {\n",
       "        vertical-align: top;\n",
       "    }\n",
       "\n",
       "    .dataframe thead th {\n",
       "        text-align: right;\n",
       "    }\n",
       "</style>\n",
       "<table border=\"1\" class=\"dataframe\">\n",
       "  <thead>\n",
       "    <tr style=\"text-align: right;\">\n",
       "      <th></th>\n",
       "      <th>DateTime</th>\n",
       "      <th>PM2.5</th>\n",
       "    </tr>\n",
       "  </thead>\n",
       "  <tbody>\n",
       "    <tr>\n",
       "      <th>0</th>\n",
       "      <td>2018-01-01 00:00:00</td>\n",
       "      <td>90.19</td>\n",
       "    </tr>\n",
       "    <tr>\n",
       "      <th>1</th>\n",
       "      <td>2018-01-01 01:00:00</td>\n",
       "      <td>86.98</td>\n",
       "    </tr>\n",
       "    <tr>\n",
       "      <th>2</th>\n",
       "      <td>2018-01-01 02:00:00</td>\n",
       "      <td>86.06</td>\n",
       "    </tr>\n",
       "    <tr>\n",
       "      <th>3</th>\n",
       "      <td>2018-01-01 03:00:00</td>\n",
       "      <td>94.04</td>\n",
       "    </tr>\n",
       "    <tr>\n",
       "      <th>4</th>\n",
       "      <td>2018-01-01 04:00:00</td>\n",
       "      <td>108.78</td>\n",
       "    </tr>\n",
       "  </tbody>\n",
       "</table>\n",
       "</div>"
      ],
      "text/plain": [
       "             DateTime   PM2.5\n",
       "0 2018-01-01 00:00:00   90.19\n",
       "1 2018-01-01 01:00:00   86.98\n",
       "2 2018-01-01 02:00:00   86.06\n",
       "3 2018-01-01 03:00:00   94.04\n",
       "4 2018-01-01 04:00:00  108.78"
      ]
     },
     "execution_count": 95,
     "metadata": {},
     "output_type": "execute_result"
    }
   ],
   "source": [
    "data.head()"
   ]
  },
  {
   "cell_type": "code",
   "execution_count": 96,
   "id": "6d737214-9f24-47ff-905e-cf9201259f00",
   "metadata": {},
   "outputs": [
    {
     "data": {
      "text/html": [
       "<div>\n",
       "<style scoped>\n",
       "    .dataframe tbody tr th:only-of-type {\n",
       "        vertical-align: middle;\n",
       "    }\n",
       "\n",
       "    .dataframe tbody tr th {\n",
       "        vertical-align: top;\n",
       "    }\n",
       "\n",
       "    .dataframe thead th {\n",
       "        text-align: right;\n",
       "    }\n",
       "</style>\n",
       "<table border=\"1\" class=\"dataframe\">\n",
       "  <thead>\n",
       "    <tr style=\"text-align: right;\">\n",
       "      <th></th>\n",
       "      <th>DateTime</th>\n",
       "      <th>PM2.5</th>\n",
       "      <th>Year</th>\n",
       "    </tr>\n",
       "  </thead>\n",
       "  <tbody>\n",
       "    <tr>\n",
       "      <th>0</th>\n",
       "      <td>2018-01-01 00:00:00</td>\n",
       "      <td>90.19</td>\n",
       "      <td>2018.0</td>\n",
       "    </tr>\n",
       "    <tr>\n",
       "      <th>1</th>\n",
       "      <td>2018-01-01 01:00:00</td>\n",
       "      <td>86.98</td>\n",
       "      <td>2018.0</td>\n",
       "    </tr>\n",
       "    <tr>\n",
       "      <th>2</th>\n",
       "      <td>2018-01-01 02:00:00</td>\n",
       "      <td>86.06</td>\n",
       "      <td>2018.0</td>\n",
       "    </tr>\n",
       "    <tr>\n",
       "      <th>3</th>\n",
       "      <td>2018-01-01 03:00:00</td>\n",
       "      <td>94.04</td>\n",
       "      <td>2018.0</td>\n",
       "    </tr>\n",
       "    <tr>\n",
       "      <th>4</th>\n",
       "      <td>2018-01-01 04:00:00</td>\n",
       "      <td>108.78</td>\n",
       "      <td>2018.0</td>\n",
       "    </tr>\n",
       "    <tr>\n",
       "      <th>...</th>\n",
       "      <td>...</td>\n",
       "      <td>...</td>\n",
       "      <td>...</td>\n",
       "    </tr>\n",
       "    <tr>\n",
       "      <th>31856</th>\n",
       "      <td>NaT</td>\n",
       "      <td>72.25</td>\n",
       "      <td>NaN</td>\n",
       "    </tr>\n",
       "    <tr>\n",
       "      <th>31857</th>\n",
       "      <td>NaT</td>\n",
       "      <td>71.56</td>\n",
       "      <td>NaN</td>\n",
       "    </tr>\n",
       "    <tr>\n",
       "      <th>31858</th>\n",
       "      <td>NaT</td>\n",
       "      <td>70.27</td>\n",
       "      <td>NaN</td>\n",
       "    </tr>\n",
       "    <tr>\n",
       "      <th>31859</th>\n",
       "      <td>NaT</td>\n",
       "      <td>66.78</td>\n",
       "      <td>NaN</td>\n",
       "    </tr>\n",
       "    <tr>\n",
       "      <th>31860</th>\n",
       "      <td>NaT</td>\n",
       "      <td>61.29</td>\n",
       "      <td>NaN</td>\n",
       "    </tr>\n",
       "  </tbody>\n",
       "</table>\n",
       "<p>31861 rows × 3 columns</p>\n",
       "</div>"
      ],
      "text/plain": [
       "                 DateTime   PM2.5    Year\n",
       "0     2018-01-01 00:00:00   90.19  2018.0\n",
       "1     2018-01-01 01:00:00   86.98  2018.0\n",
       "2     2018-01-01 02:00:00   86.06  2018.0\n",
       "3     2018-01-01 03:00:00   94.04  2018.0\n",
       "4     2018-01-01 04:00:00  108.78  2018.0\n",
       "...                   ...     ...     ...\n",
       "31856                 NaT   72.25     NaN\n",
       "31857                 NaT   71.56     NaN\n",
       "31858                 NaT   70.27     NaN\n",
       "31859                 NaT   66.78     NaN\n",
       "31860                 NaT   61.29     NaN\n",
       "\n",
       "[31861 rows x 3 columns]"
      ]
     },
     "execution_count": 96,
     "metadata": {},
     "output_type": "execute_result"
    }
   ],
   "source": [
    "data['Year']=data['DateTime'].dt.year\n",
    "data"
   ]
  },
  {
   "cell_type": "code",
   "execution_count": 97,
   "id": "98642ef0-c0f8-48b3-9ddc-12d780c13162",
   "metadata": {},
   "outputs": [],
   "source": [
    "data=data.dropna()"
   ]
  },
  {
   "cell_type": "code",
   "execution_count": 98,
   "id": "ea466a60-8083-4efe-9a7f-344e73cb2d83",
   "metadata": {},
   "outputs": [
    {
     "data": {
      "text/plain": [
       "DateTime    0\n",
       "PM2.5       0\n",
       "Year        0\n",
       "dtype: int64"
      ]
     },
     "execution_count": 98,
     "metadata": {},
     "output_type": "execute_result"
    }
   ],
   "source": [
    "data.isnull().sum()"
   ]
  },
  {
   "cell_type": "code",
   "execution_count": 99,
   "id": "2f02153e-ba6e-4a40-8fe2-bff836f21549",
   "metadata": {},
   "outputs": [
    {
     "data": {
      "text/plain": [
       "Year\n",
       "2018.0    55.350059\n",
       "2019.0    51.703750\n",
       "2020.0    43.167236\n",
       "2021.0    44.013448\n",
       "Name: PM2.5, dtype: float64"
      ]
     },
     "execution_count": 99,
     "metadata": {},
     "output_type": "execute_result"
    }
   ],
   "source": [
    "year_avg=data.groupby('Year')['PM2.5'].mean()\n",
    "year_avg"
   ]
  },
  {
   "cell_type": "code",
   "execution_count": 100,
   "id": "008c2a3d-6949-4e84-a4d7-eecbe1d4a3cc",
   "metadata": {},
   "outputs": [
    {
     "data": {
      "text/plain": [
       "<Axes: xlabel='Year'>"
      ]
     },
     "execution_count": 100,
     "metadata": {},
     "output_type": "execute_result"
    },
    {
     "data": {
      "image/png": "[encoded data removed]",
      "text/plain": [
       "<Figure size 640x480 with 1 Axes>"
      ]
     },
     "metadata": {},
     "output_type": "display_data"
    }
   ],
   "source": [
    "year_avg.plot(kind='line')"
   ]
  },
  {
   "cell_type": "markdown",
   "id": "f8a84378-43b1-46db-8f09-1fa4bde44342",
   "metadata": {},
   "source": [
    "# 2. Draw the Area plot showing the average pollution Month wise."
   ]
  },
  {
   "cell_type": "code",
   "execution_count": 101,
   "id": "77abef50-d281-4c6d-a8a4-5811e41322c4",
   "metadata": {},
   "outputs": [
    {
     "name": "stderr",
     "output_type": "stream",
     "text": [
      "C:\\Users\\Sai Sailesh\\AppData\\Local\\Temp\\ipykernel_41324\\3888248499.py:1: SettingWithCopyWarning: \n",
      "A value is trying to be set on a copy of a slice from a DataFrame.\n",
      "Try using .loc[row_indexer,col_indexer] = value instead\n",
      "\n",
      "See the caveats in the documentation: https://pandas.pydata.org/pandas-docs/stable/user_guide/indexing.html#returning-a-view-versus-a-copy\n",
      "  data.loc[:,'Month']=data['DateTime'].dt.month\n"
     ]
    },
    {
     "data": {
      "text/html": [
       "<div>\n",
       "<style scoped>\n",
       "    .dataframe tbody tr th:only-of-type {\n",
       "        vertical-align: middle;\n",
       "    }\n",
       "\n",
       "    .dataframe tbody tr th {\n",
       "        vertical-align: top;\n",
       "    }\n",
       "\n",
       "    .dataframe thead th {\n",
       "        text-align: right;\n",
       "    }\n",
       "</style>\n",
       "<table border=\"1\" class=\"dataframe\">\n",
       "  <thead>\n",
       "    <tr style=\"text-align: right;\">\n",
       "      <th></th>\n",
       "      <th>DateTime</th>\n",
       "      <th>PM2.5</th>\n",
       "      <th>Year</th>\n",
       "      <th>Month</th>\n",
       "    </tr>\n",
       "  </thead>\n",
       "  <tbody>\n",
       "    <tr>\n",
       "      <th>0</th>\n",
       "      <td>2018-01-01 00:00:00</td>\n",
       "      <td>90.19</td>\n",
       "      <td>2018.0</td>\n",
       "      <td>1</td>\n",
       "    </tr>\n",
       "    <tr>\n",
       "      <th>1</th>\n",
       "      <td>2018-01-01 01:00:00</td>\n",
       "      <td>86.98</td>\n",
       "      <td>2018.0</td>\n",
       "      <td>1</td>\n",
       "    </tr>\n",
       "    <tr>\n",
       "      <th>2</th>\n",
       "      <td>2018-01-01 02:00:00</td>\n",
       "      <td>86.06</td>\n",
       "      <td>2018.0</td>\n",
       "      <td>1</td>\n",
       "    </tr>\n",
       "    <tr>\n",
       "      <th>3</th>\n",
       "      <td>2018-01-01 03:00:00</td>\n",
       "      <td>94.04</td>\n",
       "      <td>2018.0</td>\n",
       "      <td>1</td>\n",
       "    </tr>\n",
       "    <tr>\n",
       "      <th>4</th>\n",
       "      <td>2018-01-01 04:00:00</td>\n",
       "      <td>108.78</td>\n",
       "      <td>2018.0</td>\n",
       "      <td>1</td>\n",
       "    </tr>\n",
       "    <tr>\n",
       "      <th>...</th>\n",
       "      <td>...</td>\n",
       "      <td>...</td>\n",
       "      <td>...</td>\n",
       "      <td>...</td>\n",
       "    </tr>\n",
       "    <tr>\n",
       "      <th>31414</th>\n",
       "      <td>2021-12-12 19:00:00</td>\n",
       "      <td>77.58</td>\n",
       "      <td>2021.0</td>\n",
       "      <td>12</td>\n",
       "    </tr>\n",
       "    <tr>\n",
       "      <th>31415</th>\n",
       "      <td>2021-12-12 20:00:00</td>\n",
       "      <td>77.18</td>\n",
       "      <td>2021.0</td>\n",
       "      <td>12</td>\n",
       "    </tr>\n",
       "    <tr>\n",
       "      <th>31416</th>\n",
       "      <td>2021-12-12 21:00:00</td>\n",
       "      <td>78.09</td>\n",
       "      <td>2021.0</td>\n",
       "      <td>12</td>\n",
       "    </tr>\n",
       "    <tr>\n",
       "      <th>31417</th>\n",
       "      <td>2021-12-12 22:00:00</td>\n",
       "      <td>78.03</td>\n",
       "      <td>2021.0</td>\n",
       "      <td>12</td>\n",
       "    </tr>\n",
       "    <tr>\n",
       "      <th>31418</th>\n",
       "      <td>2021-12-12 23:00:00</td>\n",
       "      <td>66.42</td>\n",
       "      <td>2021.0</td>\n",
       "      <td>12</td>\n",
       "    </tr>\n",
       "  </tbody>\n",
       "</table>\n",
       "<p>12812 rows × 4 columns</p>\n",
       "</div>"
      ],
      "text/plain": [
       "                 DateTime   PM2.5    Year  Month\n",
       "0     2018-01-01 00:00:00   90.19  2018.0      1\n",
       "1     2018-01-01 01:00:00   86.98  2018.0      1\n",
       "2     2018-01-01 02:00:00   86.06  2018.0      1\n",
       "3     2018-01-01 03:00:00   94.04  2018.0      1\n",
       "4     2018-01-01 04:00:00  108.78  2018.0      1\n",
       "...                   ...     ...     ...    ...\n",
       "31414 2021-12-12 19:00:00   77.58  2021.0     12\n",
       "31415 2021-12-12 20:00:00   77.18  2021.0     12\n",
       "31416 2021-12-12 21:00:00   78.09  2021.0     12\n",
       "31417 2021-12-12 22:00:00   78.03  2021.0     12\n",
       "31418 2021-12-12 23:00:00   66.42  2021.0     12\n",
       "\n",
       "[12812 rows x 4 columns]"
      ]
     },
     "execution_count": 101,
     "metadata": {},
     "output_type": "execute_result"
    }
   ],
   "source": [
    "data.loc[:,'Month']=data['DateTime'].dt.month\n",
    "data"
   ]
  },
  {
   "cell_type": "code",
   "execution_count": 102,
   "id": "26e75dbe-8d2f-4520-b1a4-15333a04c8b4",
   "metadata": {},
   "outputs": [
    {
     "data": {
      "text/plain": [
       "Month\n",
       "1     48.464107\n",
       "2     48.255515\n",
       "3     46.889366\n",
       "4     47.955303\n",
       "5     48.668178\n",
       "6     48.629443\n",
       "7     46.970782\n",
       "8     48.618370\n",
       "9     49.929313\n",
       "10    48.890964\n",
       "11    50.064518\n",
       "12    48.027854\n",
       "Name: PM2.5, dtype: float64"
      ]
     },
     "execution_count": 102,
     "metadata": {},
     "output_type": "execute_result"
    }
   ],
   "source": [
    "monthly_avg=data.groupby('Month')['PM2.5'].mean()\n",
    "monthly_avg"
   ]
  },
  {
   "cell_type": "code",
   "execution_count": 103,
   "id": "55707435-d384-4c34-a3f8-e2595a2d6b56",
   "metadata": {},
   "outputs": [
    {
     "data": {
      "text/plain": [
       "<Axes: xlabel='Month'>"
      ]
     },
     "execution_count": 103,
     "metadata": {},
     "output_type": "execute_result"
    },
    {
     "data": {
      "image/png": "[encoded data removed]",
      "text/plain": [
       "<Figure size 640x480 with 1 Axes>"
      ]
     },
     "metadata": {},
     "output_type": "display_data"
    }
   ],
   "source": [
    "monthly_avg.plot(kind='area')"
   ]
  },
  {
   "cell_type": "markdown",
   "id": "7f372732-4a86-4853-9948-c70aa4f94ff4",
   "metadata": {},
   "source": [
    "# Draw a Bar graph to show the Hour-wise average pollution."
   ]
  },
  {
   "cell_type": "code",
   "execution_count": 104,
   "id": "09139664-81f0-4574-9153-5c2508158701",
   "metadata": {},
   "outputs": [
    {
     "data": {
      "text/html": [
       "<div>\n",
       "<style scoped>\n",
       "    .dataframe tbody tr th:only-of-type {\n",
       "        vertical-align: middle;\n",
       "    }\n",
       "\n",
       "    .dataframe tbody tr th {\n",
       "        vertical-align: top;\n",
       "    }\n",
       "\n",
       "    .dataframe thead th {\n",
       "        text-align: right;\n",
       "    }\n",
       "</style>\n",
       "<table border=\"1\" class=\"dataframe\">\n",
       "  <thead>\n",
       "    <tr style=\"text-align: right;\">\n",
       "      <th></th>\n",
       "      <th>DateTime</th>\n",
       "      <th>PM2.5</th>\n",
       "      <th>Year</th>\n",
       "      <th>Month</th>\n",
       "    </tr>\n",
       "  </thead>\n",
       "  <tbody>\n",
       "    <tr>\n",
       "      <th>0</th>\n",
       "      <td>2018-01-01 00:00:00</td>\n",
       "      <td>90.19</td>\n",
       "      <td>2018.0</td>\n",
       "      <td>1</td>\n",
       "    </tr>\n",
       "    <tr>\n",
       "      <th>1</th>\n",
       "      <td>2018-01-01 01:00:00</td>\n",
       "      <td>86.98</td>\n",
       "      <td>2018.0</td>\n",
       "      <td>1</td>\n",
       "    </tr>\n",
       "    <tr>\n",
       "      <th>2</th>\n",
       "      <td>2018-01-01 02:00:00</td>\n",
       "      <td>86.06</td>\n",
       "      <td>2018.0</td>\n",
       "      <td>1</td>\n",
       "    </tr>\n",
       "    <tr>\n",
       "      <th>3</th>\n",
       "      <td>2018-01-01 03:00:00</td>\n",
       "      <td>94.04</td>\n",
       "      <td>2018.0</td>\n",
       "      <td>1</td>\n",
       "    </tr>\n",
       "    <tr>\n",
       "      <th>4</th>\n",
       "      <td>2018-01-01 04:00:00</td>\n",
       "      <td>108.78</td>\n",
       "      <td>2018.0</td>\n",
       "      <td>1</td>\n",
       "    </tr>\n",
       "  </tbody>\n",
       "</table>\n",
       "</div>"
      ],
      "text/plain": [
       "             DateTime   PM2.5    Year  Month\n",
       "0 2018-01-01 00:00:00   90.19  2018.0      1\n",
       "1 2018-01-01 01:00:00   86.98  2018.0      1\n",
       "2 2018-01-01 02:00:00   86.06  2018.0      1\n",
       "3 2018-01-01 03:00:00   94.04  2018.0      1\n",
       "4 2018-01-01 04:00:00  108.78  2018.0      1"
      ]
     },
     "execution_count": 104,
     "metadata": {},
     "output_type": "execute_result"
    }
   ],
   "source": [
    "data.head()"
   ]
  },
  {
   "cell_type": "code",
   "execution_count": 105,
   "id": "523bdc4a-ec1d-4beb-92de-d2d6132d5fac",
   "metadata": {},
   "outputs": [
    {
     "name": "stderr",
     "output_type": "stream",
     "text": [
      "C:\\Users\\Sai Sailesh\\AppData\\Local\\Temp\\ipykernel_41324\\151918038.py:1: SettingWithCopyWarning: \n",
      "A value is trying to be set on a copy of a slice from a DataFrame.\n",
      "Try using .loc[row_indexer,col_indexer] = value instead\n",
      "\n",
      "See the caveats in the documentation: https://pandas.pydata.org/pandas-docs/stable/user_guide/indexing.html#returning-a-view-versus-a-copy\n",
      "  data.loc[:,'Hour']=data['DateTime'].dt.hour\n"
     ]
    },
    {
     "data": {
      "text/html": [
       "<div>\n",
       "<style scoped>\n",
       "    .dataframe tbody tr th:only-of-type {\n",
       "        vertical-align: middle;\n",
       "    }\n",
       "\n",
       "    .dataframe tbody tr th {\n",
       "        vertical-align: top;\n",
       "    }\n",
       "\n",
       "    .dataframe thead th {\n",
       "        text-align: right;\n",
       "    }\n",
       "</style>\n",
       "<table border=\"1\" class=\"dataframe\">\n",
       "  <thead>\n",
       "    <tr style=\"text-align: right;\">\n",
       "      <th></th>\n",
       "      <th>DateTime</th>\n",
       "      <th>PM2.5</th>\n",
       "      <th>Year</th>\n",
       "      <th>Month</th>\n",
       "      <th>Hour</th>\n",
       "    </tr>\n",
       "  </thead>\n",
       "  <tbody>\n",
       "    <tr>\n",
       "      <th>0</th>\n",
       "      <td>2018-01-01 00:00:00</td>\n",
       "      <td>90.19</td>\n",
       "      <td>2018.0</td>\n",
       "      <td>1</td>\n",
       "      <td>0</td>\n",
       "    </tr>\n",
       "    <tr>\n",
       "      <th>1</th>\n",
       "      <td>2018-01-01 01:00:00</td>\n",
       "      <td>86.98</td>\n",
       "      <td>2018.0</td>\n",
       "      <td>1</td>\n",
       "      <td>1</td>\n",
       "    </tr>\n",
       "    <tr>\n",
       "      <th>2</th>\n",
       "      <td>2018-01-01 02:00:00</td>\n",
       "      <td>86.06</td>\n",
       "      <td>2018.0</td>\n",
       "      <td>1</td>\n",
       "      <td>2</td>\n",
       "    </tr>\n",
       "    <tr>\n",
       "      <th>3</th>\n",
       "      <td>2018-01-01 03:00:00</td>\n",
       "      <td>94.04</td>\n",
       "      <td>2018.0</td>\n",
       "      <td>1</td>\n",
       "      <td>3</td>\n",
       "    </tr>\n",
       "    <tr>\n",
       "      <th>4</th>\n",
       "      <td>2018-01-01 04:00:00</td>\n",
       "      <td>108.78</td>\n",
       "      <td>2018.0</td>\n",
       "      <td>1</td>\n",
       "      <td>4</td>\n",
       "    </tr>\n",
       "    <tr>\n",
       "      <th>...</th>\n",
       "      <td>...</td>\n",
       "      <td>...</td>\n",
       "      <td>...</td>\n",
       "      <td>...</td>\n",
       "      <td>...</td>\n",
       "    </tr>\n",
       "    <tr>\n",
       "      <th>31414</th>\n",
       "      <td>2021-12-12 19:00:00</td>\n",
       "      <td>77.58</td>\n",
       "      <td>2021.0</td>\n",
       "      <td>12</td>\n",
       "      <td>19</td>\n",
       "    </tr>\n",
       "    <tr>\n",
       "      <th>31415</th>\n",
       "      <td>2021-12-12 20:00:00</td>\n",
       "      <td>77.18</td>\n",
       "      <td>2021.0</td>\n",
       "      <td>12</td>\n",
       "      <td>20</td>\n",
       "    </tr>\n",
       "    <tr>\n",
       "      <th>31416</th>\n",
       "      <td>2021-12-12 21:00:00</td>\n",
       "      <td>78.09</td>\n",
       "      <td>2021.0</td>\n",
       "      <td>12</td>\n",
       "      <td>21</td>\n",
       "    </tr>\n",
       "    <tr>\n",
       "      <th>31417</th>\n",
       "      <td>2021-12-12 22:00:00</td>\n",
       "      <td>78.03</td>\n",
       "      <td>2021.0</td>\n",
       "      <td>12</td>\n",
       "      <td>22</td>\n",
       "    </tr>\n",
       "    <tr>\n",
       "      <th>31418</th>\n",
       "      <td>2021-12-12 23:00:00</td>\n",
       "      <td>66.42</td>\n",
       "      <td>2021.0</td>\n",
       "      <td>12</td>\n",
       "      <td>23</td>\n",
       "    </tr>\n",
       "  </tbody>\n",
       "</table>\n",
       "<p>12812 rows × 5 columns</p>\n",
       "</div>"
      ],
      "text/plain": [
       "                 DateTime   PM2.5    Year  Month  Hour\n",
       "0     2018-01-01 00:00:00   90.19  2018.0      1     0\n",
       "1     2018-01-01 01:00:00   86.98  2018.0      1     1\n",
       "2     2018-01-01 02:00:00   86.06  2018.0      1     2\n",
       "3     2018-01-01 03:00:00   94.04  2018.0      1     3\n",
       "4     2018-01-01 04:00:00  108.78  2018.0      1     4\n",
       "...                   ...     ...     ...    ...   ...\n",
       "31414 2021-12-12 19:00:00   77.58  2021.0     12    19\n",
       "31415 2021-12-12 20:00:00   77.18  2021.0     12    20\n",
       "31416 2021-12-12 21:00:00   78.09  2021.0     12    21\n",
       "31417 2021-12-12 22:00:00   78.03  2021.0     12    22\n",
       "31418 2021-12-12 23:00:00   66.42  2021.0     12    23\n",
       "\n",
       "[12812 rows x 5 columns]"
      ]
     },
     "execution_count": 105,
     "metadata": {},
     "output_type": "execute_result"
    }
   ],
   "source": [
    "data.loc[:,'Hour']=data['DateTime'].dt.hour\n",
    "data"
   ]
  },
  {
   "cell_type": "code",
   "execution_count": 106,
   "id": "d2e04eb2-05d9-41d9-8e40-22d2866ee1f1",
   "metadata": {},
   "outputs": [
    {
     "data": {
      "text/plain": [
       "Hour\n",
       "0     47.699700\n",
       "1     47.221041\n",
       "2     47.612892\n",
       "3     49.772004\n",
       "4     52.188766\n",
       "5     52.784712\n",
       "6     51.230037\n",
       "7     48.393829\n",
       "8     45.817362\n",
       "9     43.426154\n",
       "10    41.486257\n",
       "11    40.160887\n",
       "12    39.469607\n",
       "13    40.088480\n",
       "14    43.570807\n",
       "15    48.470841\n",
       "16    52.540777\n",
       "17    54.765340\n",
       "18    55.543981\n",
       "19    55.178042\n",
       "20    53.486660\n",
       "21    52.196402\n",
       "22    50.625356\n",
       "23    49.138945\n",
       "Name: PM2.5, dtype: float64"
      ]
     },
     "execution_count": 106,
     "metadata": {},
     "output_type": "execute_result"
    }
   ],
   "source": [
    "hour_avg=data.groupby('Hour')['PM2.5'].mean()\n",
    "hour_avg"
   ]
  },
  {
   "cell_type": "code",
   "execution_count": 107,
   "id": "c55169fd-3a1b-4662-bb82-e1a0c054d48f",
   "metadata": {},
   "outputs": [
    {
     "data": {
      "text/plain": [
       "<Axes: xlabel='Hour'>"
      ]
     },
     "execution_count": 107,
     "metadata": {},
     "output_type": "execute_result"
    },
    {
     "data": {
      "image/png": "[encoded data removed]",
      "text/plain": [
       "<Figure size 640x480 with 1 Axes>"
      ]
     },
     "metadata": {},
     "output_type": "display_data"
    }
   ],
   "source": [
    "hour_avg.plot(kind='bar')"
   ]
  },
  {
   "cell_type": "markdown",
   "id": "fd4eec52-1252-419d-87e8-f7c0b2d7fb59",
   "metadata": {},
   "source": [
    "# Usually in which month/s, the air was recorded 'Very Unhealthy'."
   ]
  },
  {
   "cell_type": "code",
   "execution_count": 108,
   "id": "d60ac358-b3e7-4b19-b1c3-699546f97bb2",
   "metadata": {},
   "outputs": [
    {
     "data": {
      "text/html": [
       "<div>\n",
       "<style scoped>\n",
       "    .dataframe tbody tr th:only-of-type {\n",
       "        vertical-align: middle;\n",
       "    }\n",
       "\n",
       "    .dataframe tbody tr th {\n",
       "        vertical-align: top;\n",
       "    }\n",
       "\n",
       "    .dataframe thead th {\n",
       "        text-align: right;\n",
       "    }\n",
       "</style>\n",
       "<table border=\"1\" class=\"dataframe\">\n",
       "  <thead>\n",
       "    <tr style=\"text-align: right;\">\n",
       "      <th></th>\n",
       "      <th>DateTime</th>\n",
       "      <th>PM2.5</th>\n",
       "      <th>Year</th>\n",
       "      <th>Month</th>\n",
       "      <th>Hour</th>\n",
       "    </tr>\n",
       "  </thead>\n",
       "  <tbody>\n",
       "    <tr>\n",
       "      <th>0</th>\n",
       "      <td>2018-01-01 00:00:00</td>\n",
       "      <td>90.19</td>\n",
       "      <td>2018.0</td>\n",
       "      <td>1</td>\n",
       "      <td>0</td>\n",
       "    </tr>\n",
       "    <tr>\n",
       "      <th>1</th>\n",
       "      <td>2018-01-01 01:00:00</td>\n",
       "      <td>86.98</td>\n",
       "      <td>2018.0</td>\n",
       "      <td>1</td>\n",
       "      <td>1</td>\n",
       "    </tr>\n",
       "    <tr>\n",
       "      <th>2</th>\n",
       "      <td>2018-01-01 02:00:00</td>\n",
       "      <td>86.06</td>\n",
       "      <td>2018.0</td>\n",
       "      <td>1</td>\n",
       "      <td>2</td>\n",
       "    </tr>\n",
       "    <tr>\n",
       "      <th>3</th>\n",
       "      <td>2018-01-01 03:00:00</td>\n",
       "      <td>94.04</td>\n",
       "      <td>2018.0</td>\n",
       "      <td>1</td>\n",
       "      <td>3</td>\n",
       "    </tr>\n",
       "    <tr>\n",
       "      <th>4</th>\n",
       "      <td>2018-01-01 04:00:00</td>\n",
       "      <td>108.78</td>\n",
       "      <td>2018.0</td>\n",
       "      <td>1</td>\n",
       "      <td>4</td>\n",
       "    </tr>\n",
       "  </tbody>\n",
       "</table>\n",
       "</div>"
      ],
      "text/plain": [
       "             DateTime   PM2.5    Year  Month  Hour\n",
       "0 2018-01-01 00:00:00   90.19  2018.0      1     0\n",
       "1 2018-01-01 01:00:00   86.98  2018.0      1     1\n",
       "2 2018-01-01 02:00:00   86.06  2018.0      1     2\n",
       "3 2018-01-01 03:00:00   94.04  2018.0      1     3\n",
       "4 2018-01-01 04:00:00  108.78  2018.0      1     4"
      ]
     },
     "execution_count": 108,
     "metadata": {},
     "output_type": "execute_result"
    }
   ],
   "source": [
    "data.head()"
   ]
  },
  {
   "cell_type": "code",
   "execution_count": 109,
   "id": "4a40cef7-2a0d-4067-8d0c-1a516cc40b03",
   "metadata": {},
   "outputs": [
    {
     "data": {
      "text/html": [
       "<div>\n",
       "<style scoped>\n",
       "    .dataframe tbody tr th:only-of-type {\n",
       "        vertical-align: middle;\n",
       "    }\n",
       "\n",
       "    .dataframe tbody tr th {\n",
       "        vertical-align: top;\n",
       "    }\n",
       "\n",
       "    .dataframe thead th {\n",
       "        text-align: right;\n",
       "    }\n",
       "</style>\n",
       "<table border=\"1\" class=\"dataframe\">\n",
       "  <thead>\n",
       "    <tr style=\"text-align: right;\">\n",
       "      <th></th>\n",
       "      <th>DateTime</th>\n",
       "      <th>PM2.5</th>\n",
       "      <th>Year</th>\n",
       "      <th>Month</th>\n",
       "      <th>Hour</th>\n",
       "    </tr>\n",
       "  </thead>\n",
       "  <tbody>\n",
       "    <tr>\n",
       "      <th>6</th>\n",
       "      <td>2018-01-06 17:00:00</td>\n",
       "      <td>150.89</td>\n",
       "      <td>2018.0</td>\n",
       "      <td>1</td>\n",
       "      <td>17</td>\n",
       "    </tr>\n",
       "    <tr>\n",
       "      <th>7</th>\n",
       "      <td>2018-11-07 21:00:00</td>\n",
       "      <td>245.63</td>\n",
       "      <td>2018.0</td>\n",
       "      <td>11</td>\n",
       "      <td>21</td>\n",
       "    </tr>\n",
       "    <tr>\n",
       "      <th>8</th>\n",
       "      <td>2018-11-08 00:00:00</td>\n",
       "      <td>175.19</td>\n",
       "      <td>2018.0</td>\n",
       "      <td>11</td>\n",
       "      <td>0</td>\n",
       "    </tr>\n",
       "    <tr>\n",
       "      <th>31</th>\n",
       "      <td>2018-11-07 22:00:00</td>\n",
       "      <td>232.03</td>\n",
       "      <td>2018.0</td>\n",
       "      <td>11</td>\n",
       "      <td>22</td>\n",
       "    </tr>\n",
       "    <tr>\n",
       "      <th>32</th>\n",
       "      <td>2018-11-08 01:00:00</td>\n",
       "      <td>169.15</td>\n",
       "      <td>2018.0</td>\n",
       "      <td>11</td>\n",
       "      <td>1</td>\n",
       "    </tr>\n",
       "    <tr>\n",
       "      <th>55</th>\n",
       "      <td>2018-11-07 20:00:00</td>\n",
       "      <td>223.21</td>\n",
       "      <td>2018.0</td>\n",
       "      <td>11</td>\n",
       "      <td>20</td>\n",
       "    </tr>\n",
       "    <tr>\n",
       "      <th>56</th>\n",
       "      <td>2018-11-08 03:00:00</td>\n",
       "      <td>160.34</td>\n",
       "      <td>2018.0</td>\n",
       "      <td>11</td>\n",
       "      <td>3</td>\n",
       "    </tr>\n",
       "    <tr>\n",
       "      <th>79</th>\n",
       "      <td>2018-11-07 18:00:00</td>\n",
       "      <td>212.56</td>\n",
       "      <td>2018.0</td>\n",
       "      <td>11</td>\n",
       "      <td>18</td>\n",
       "    </tr>\n",
       "    <tr>\n",
       "      <th>103</th>\n",
       "      <td>2018-11-07 19:00:00</td>\n",
       "      <td>207.41</td>\n",
       "      <td>2018.0</td>\n",
       "      <td>11</td>\n",
       "      <td>19</td>\n",
       "    </tr>\n",
       "    <tr>\n",
       "      <th>126</th>\n",
       "      <td>2018-11-07 17:00:00</td>\n",
       "      <td>183.19</td>\n",
       "      <td>2018.0</td>\n",
       "      <td>11</td>\n",
       "      <td>17</td>\n",
       "    </tr>\n",
       "    <tr>\n",
       "      <th>143</th>\n",
       "      <td>2018-11-07 23:00:00</td>\n",
       "      <td>173.67</td>\n",
       "      <td>2018.0</td>\n",
       "      <td>11</td>\n",
       "      <td>23</td>\n",
       "    </tr>\n",
       "    <tr>\n",
       "      <th>7578</th>\n",
       "      <td>2019-02-01 17:00:00</td>\n",
       "      <td>165.82</td>\n",
       "      <td>2019.0</td>\n",
       "      <td>2</td>\n",
       "      <td>17</td>\n",
       "    </tr>\n",
       "    <tr>\n",
       "      <th>7579</th>\n",
       "      <td>2019-02-01 18:00:00</td>\n",
       "      <td>157.99</td>\n",
       "      <td>2019.0</td>\n",
       "      <td>2</td>\n",
       "      <td>18</td>\n",
       "    </tr>\n",
       "  </tbody>\n",
       "</table>\n",
       "</div>"
      ],
      "text/plain": [
       "                DateTime   PM2.5    Year  Month  Hour\n",
       "6    2018-01-06 17:00:00  150.89  2018.0      1    17\n",
       "7    2018-11-07 21:00:00  245.63  2018.0     11    21\n",
       "8    2018-11-08 00:00:00  175.19  2018.0     11     0\n",
       "31   2018-11-07 22:00:00  232.03  2018.0     11    22\n",
       "32   2018-11-08 01:00:00  169.15  2018.0     11     1\n",
       "55   2018-11-07 20:00:00  223.21  2018.0     11    20\n",
       "56   2018-11-08 03:00:00  160.34  2018.0     11     3\n",
       "79   2018-11-07 18:00:00  212.56  2018.0     11    18\n",
       "103  2018-11-07 19:00:00  207.41  2018.0     11    19\n",
       "126  2018-11-07 17:00:00  183.19  2018.0     11    17\n",
       "143  2018-11-07 23:00:00  173.67  2018.0     11    23\n",
       "7578 2019-02-01 17:00:00  165.82  2019.0      2    17\n",
       "7579 2019-02-01 18:00:00  157.99  2019.0      2    18"
      ]
     },
     "execution_count": 109,
     "metadata": {},
     "output_type": "execute_result"
    }
   ],
   "source": [
    "unhealthy=data[(data['PM2.5']>=150.5) & (data['PM2.5']<=250.4)]\n",
    "unhealthy"
   ]
  },
  {
   "cell_type": "code",
   "execution_count": 113,
   "id": "0f387973-e995-4790-a6f0-626785f1fc92",
   "metadata": {},
   "outputs": [
    {
     "data": {
      "text/plain": [
       "array([ 1, 11,  2])"
      ]
     },
     "execution_count": 113,
     "metadata": {},
     "output_type": "execute_result"
    }
   ],
   "source": [
    "unhealthy['Month'].unique()"
   ]
  },
  {
   "cell_type": "code",
   "execution_count": 114,
   "id": "1bf4294c-caa7-4ae2-b6d9-35db40b50ceb",
   "metadata": {},
   "outputs": [
    {
     "data": {
      "text/plain": [
       "Month\n",
       "11    10\n",
       "2      2\n",
       "1      1\n",
       "Name: count, dtype: int64"
      ]
     },
     "execution_count": 114,
     "metadata": {},
     "output_type": "execute_result"
    }
   ],
   "source": [
    "unhealthy['Month'].value_counts()"
   ]
  },
  {
   "cell_type": "markdown",
   "id": "dce24a3b-b2cd-4ad6-a449-300cad67582c",
   "metadata": {},
   "source": [
    "# 5. Usually in which month/s, the air was fresh(good)."
   ]
  },
  {
   "cell_type": "code",
   "execution_count": 117,
   "id": "d9d8e94e-a9a1-4dc3-9107-1af59d7fb3c0",
   "metadata": {},
   "outputs": [
    {
     "data": {
      "text/html": [
       "<div>\n",
       "<style scoped>\n",
       "    .dataframe tbody tr th:only-of-type {\n",
       "        vertical-align: middle;\n",
       "    }\n",
       "\n",
       "    .dataframe tbody tr th {\n",
       "        vertical-align: top;\n",
       "    }\n",
       "\n",
       "    .dataframe thead th {\n",
       "        text-align: right;\n",
       "    }\n",
       "</style>\n",
       "<table border=\"1\" class=\"dataframe\">\n",
       "  <thead>\n",
       "    <tr style=\"text-align: right;\">\n",
       "      <th></th>\n",
       "      <th>DateTime</th>\n",
       "      <th>PM2.5</th>\n",
       "      <th>Year</th>\n",
       "      <th>Month</th>\n",
       "      <th>Hour</th>\n",
       "    </tr>\n",
       "  </thead>\n",
       "  <tbody>\n",
       "    <tr>\n",
       "      <th>12661</th>\n",
       "      <td>2019-01-09 01:00:00</td>\n",
       "      <td>10.90</td>\n",
       "      <td>2019.0</td>\n",
       "      <td>1</td>\n",
       "      <td>1</td>\n",
       "    </tr>\n",
       "    <tr>\n",
       "      <th>12663</th>\n",
       "      <td>2019-01-09 03:00:00</td>\n",
       "      <td>10.99</td>\n",
       "      <td>2019.0</td>\n",
       "      <td>1</td>\n",
       "      <td>3</td>\n",
       "    </tr>\n",
       "    <tr>\n",
       "      <th>12664</th>\n",
       "      <td>2019-01-09 04:00:00</td>\n",
       "      <td>11.43</td>\n",
       "      <td>2019.0</td>\n",
       "      <td>1</td>\n",
       "      <td>4</td>\n",
       "    </tr>\n",
       "    <tr>\n",
       "      <th>12745</th>\n",
       "      <td>2019-04-09 13:00:00</td>\n",
       "      <td>8.74</td>\n",
       "      <td>2019.0</td>\n",
       "      <td>4</td>\n",
       "      <td>13</td>\n",
       "    </tr>\n",
       "    <tr>\n",
       "      <th>12746</th>\n",
       "      <td>2019-04-09 14:00:00</td>\n",
       "      <td>8.40</td>\n",
       "      <td>2019.0</td>\n",
       "      <td>4</td>\n",
       "      <td>14</td>\n",
       "    </tr>\n",
       "    <tr>\n",
       "      <th>12747</th>\n",
       "      <td>2019-04-09 15:00:00</td>\n",
       "      <td>8.77</td>\n",
       "      <td>2019.0</td>\n",
       "      <td>4</td>\n",
       "      <td>15</td>\n",
       "    </tr>\n",
       "    <tr>\n",
       "      <th>12758</th>\n",
       "      <td>2019-05-09 03:00:00</td>\n",
       "      <td>11.45</td>\n",
       "      <td>2019.0</td>\n",
       "      <td>5</td>\n",
       "      <td>3</td>\n",
       "    </tr>\n",
       "    <tr>\n",
       "      <th>12759</th>\n",
       "      <td>2019-05-09 04:00:00</td>\n",
       "      <td>11.90</td>\n",
       "      <td>2019.0</td>\n",
       "      <td>5</td>\n",
       "      <td>4</td>\n",
       "    </tr>\n",
       "  </tbody>\n",
       "</table>\n",
       "</div>"
      ],
      "text/plain": [
       "                 DateTime  PM2.5    Year  Month  Hour\n",
       "12661 2019-01-09 01:00:00  10.90  2019.0      1     1\n",
       "12663 2019-01-09 03:00:00  10.99  2019.0      1     3\n",
       "12664 2019-01-09 04:00:00  11.43  2019.0      1     4\n",
       "12745 2019-04-09 13:00:00   8.74  2019.0      4    13\n",
       "12746 2019-04-09 14:00:00   8.40  2019.0      4    14\n",
       "12747 2019-04-09 15:00:00   8.77  2019.0      4    15\n",
       "12758 2019-05-09 03:00:00  11.45  2019.0      5     3\n",
       "12759 2019-05-09 04:00:00  11.90  2019.0      5     4"
      ]
     },
     "execution_count": 117,
     "metadata": {},
     "output_type": "execute_result"
    }
   ],
   "source": [
    "fresh=data[(data['PM2.5']<=12.0)]\n",
    "fresh"
   ]
  },
  {
   "cell_type": "code",
   "execution_count": 118,
   "id": "d26f25e7-5f07-40f5-aad7-3720fbed9b50",
   "metadata": {},
   "outputs": [
    {
     "data": {
      "text/plain": [
       "Month\n",
       "1    3\n",
       "4    3\n",
       "5    2\n",
       "Name: count, dtype: int64"
      ]
     },
     "execution_count": 118,
     "metadata": {},
     "output_type": "execute_result"
    }
   ],
   "source": [
    "fresh['Month'].value_counts()"
   ]
  },
  {
   "cell_type": "code",
   "execution_count": 119,
   "id": "21a528a1-1a3b-4cc0-b0af-7625ddb258c2",
   "metadata": {},
   "outputs": [
    {
     "data": {
      "text/plain": [
       "array([1, 4, 5])"
      ]
     },
     "execution_count": 119,
     "metadata": {},
     "output_type": "execute_result"
    }
   ],
   "source": [
    "fresh['Month'].unique()"
   ]
  },
  {
   "cell_type": "markdown",
   "id": "0af68b4e-d435-4c7e-89ba-dfdb2195ecee",
   "metadata": {},
   "source": [
    "# 6. In year 2018, how many times the AQI was recorded 'Moderate'."
   ]
  },
  {
   "cell_type": "code",
   "execution_count": 120,
   "id": "ae775b15-00fd-4c1b-9532-2a0808c33c82",
   "metadata": {},
   "outputs": [
    {
     "data": {
      "text/html": [
       "<div>\n",
       "<style scoped>\n",
       "    .dataframe tbody tr th:only-of-type {\n",
       "        vertical-align: middle;\n",
       "    }\n",
       "\n",
       "    .dataframe tbody tr th {\n",
       "        vertical-align: top;\n",
       "    }\n",
       "\n",
       "    .dataframe thead th {\n",
       "        text-align: right;\n",
       "    }\n",
       "</style>\n",
       "<table border=\"1\" class=\"dataframe\">\n",
       "  <thead>\n",
       "    <tr style=\"text-align: right;\">\n",
       "      <th></th>\n",
       "      <th>DateTime</th>\n",
       "      <th>PM2.5</th>\n",
       "      <th>Year</th>\n",
       "      <th>Month</th>\n",
       "      <th>Hour</th>\n",
       "    </tr>\n",
       "  </thead>\n",
       "  <tbody>\n",
       "    <tr>\n",
       "      <th>0</th>\n",
       "      <td>2018-01-01 00:00:00</td>\n",
       "      <td>90.19</td>\n",
       "      <td>2018.0</td>\n",
       "      <td>1</td>\n",
       "      <td>0</td>\n",
       "    </tr>\n",
       "    <tr>\n",
       "      <th>1</th>\n",
       "      <td>2018-01-01 01:00:00</td>\n",
       "      <td>86.98</td>\n",
       "      <td>2018.0</td>\n",
       "      <td>1</td>\n",
       "      <td>1</td>\n",
       "    </tr>\n",
       "  </tbody>\n",
       "</table>\n",
       "</div>"
      ],
      "text/plain": [
       "             DateTime  PM2.5    Year  Month  Hour\n",
       "0 2018-01-01 00:00:00  90.19  2018.0      1     0\n",
       "1 2018-01-01 01:00:00  86.98  2018.0      1     1"
      ]
     },
     "execution_count": 120,
     "metadata": {},
     "output_type": "execute_result"
    }
   ],
   "source": [
    "data.head(2)"
   ]
  },
  {
   "cell_type": "code",
   "execution_count": 123,
   "id": "25d67803-3174-4f28-9daa-b04f3d6b5ab3",
   "metadata": {},
   "outputs": [
    {
     "data": {
      "text/html": [
       "<div>\n",
       "<style scoped>\n",
       "    .dataframe tbody tr th:only-of-type {\n",
       "        vertical-align: middle;\n",
       "    }\n",
       "\n",
       "    .dataframe tbody tr th {\n",
       "        vertical-align: top;\n",
       "    }\n",
       "\n",
       "    .dataframe thead th {\n",
       "        text-align: right;\n",
       "    }\n",
       "</style>\n",
       "<table border=\"1\" class=\"dataframe\">\n",
       "  <thead>\n",
       "    <tr style=\"text-align: right;\">\n",
       "      <th></th>\n",
       "      <th>DateTime</th>\n",
       "      <th>PM2.5</th>\n",
       "      <th>Year</th>\n",
       "      <th>Month</th>\n",
       "      <th>Hour</th>\n",
       "    </tr>\n",
       "  </thead>\n",
       "  <tbody>\n",
       "    <tr>\n",
       "      <th>1820</th>\n",
       "      <td>2018-01-04 04:00:00</td>\n",
       "      <td>33.34</td>\n",
       "      <td>2018.0</td>\n",
       "      <td>1</td>\n",
       "      <td>4</td>\n",
       "    </tr>\n",
       "    <tr>\n",
       "      <th>2038</th>\n",
       "      <td>2018-12-04 00:00:00</td>\n",
       "      <td>35.39</td>\n",
       "      <td>2018.0</td>\n",
       "      <td>12</td>\n",
       "      <td>0</td>\n",
       "    </tr>\n",
       "    <tr>\n",
       "      <th>2473</th>\n",
       "      <td>2018-02-05 09:00:00</td>\n",
       "      <td>33.98</td>\n",
       "      <td>2018.0</td>\n",
       "      <td>2</td>\n",
       "      <td>9</td>\n",
       "    </tr>\n",
       "    <tr>\n",
       "      <th>2474</th>\n",
       "      <td>2018-02-05 10:00:00</td>\n",
       "      <td>34.33</td>\n",
       "      <td>2018.0</td>\n",
       "      <td>2</td>\n",
       "      <td>10</td>\n",
       "    </tr>\n",
       "    <tr>\n",
       "      <th>2475</th>\n",
       "      <td>2018-02-05 11:00:00</td>\n",
       "      <td>35.11</td>\n",
       "      <td>2018.0</td>\n",
       "      <td>2</td>\n",
       "      <td>11</td>\n",
       "    </tr>\n",
       "    <tr>\n",
       "      <th>...</th>\n",
       "      <td>...</td>\n",
       "      <td>...</td>\n",
       "      <td>...</td>\n",
       "      <td>...</td>\n",
       "      <td>...</td>\n",
       "    </tr>\n",
       "    <tr>\n",
       "      <th>9842</th>\n",
       "      <td>2018-08-08 00:00:00</td>\n",
       "      <td>20.26</td>\n",
       "      <td>2018.0</td>\n",
       "      <td>8</td>\n",
       "      <td>0</td>\n",
       "    </tr>\n",
       "    <tr>\n",
       "      <th>9845</th>\n",
       "      <td>2018-02-09 08:00:00</td>\n",
       "      <td>19.90</td>\n",
       "      <td>2018.0</td>\n",
       "      <td>2</td>\n",
       "      <td>8</td>\n",
       "    </tr>\n",
       "    <tr>\n",
       "      <th>9872</th>\n",
       "      <td>2018-03-07 07:00:00</td>\n",
       "      <td>20.14</td>\n",
       "      <td>2018.0</td>\n",
       "      <td>3</td>\n",
       "      <td>7</td>\n",
       "    </tr>\n",
       "    <tr>\n",
       "      <th>9920</th>\n",
       "      <td>2018-07-09 01:00:00</td>\n",
       "      <td>19.74</td>\n",
       "      <td>2018.0</td>\n",
       "      <td>7</td>\n",
       "      <td>1</td>\n",
       "    </tr>\n",
       "    <tr>\n",
       "      <th>9935</th>\n",
       "      <td>2018-04-07 08:00:00</td>\n",
       "      <td>19.51</td>\n",
       "      <td>2018.0</td>\n",
       "      <td>4</td>\n",
       "      <td>8</td>\n",
       "    </tr>\n",
       "  </tbody>\n",
       "</table>\n",
       "<p>841 rows × 5 columns</p>\n",
       "</div>"
      ],
      "text/plain": [
       "                DateTime  PM2.5    Year  Month  Hour\n",
       "1820 2018-01-04 04:00:00  33.34  2018.0      1     4\n",
       "2038 2018-12-04 00:00:00  35.39  2018.0     12     0\n",
       "2473 2018-02-05 09:00:00  33.98  2018.0      2     9\n",
       "2474 2018-02-05 10:00:00  34.33  2018.0      2    10\n",
       "2475 2018-02-05 11:00:00  35.11  2018.0      2    11\n",
       "...                  ...    ...     ...    ...   ...\n",
       "9842 2018-08-08 00:00:00  20.26  2018.0      8     0\n",
       "9845 2018-02-09 08:00:00  19.90  2018.0      2     8\n",
       "9872 2018-03-07 07:00:00  20.14  2018.0      3     7\n",
       "9920 2018-07-09 01:00:00  19.74  2018.0      7     1\n",
       "9935 2018-04-07 08:00:00  19.51  2018.0      4     8\n",
       "\n",
       "[841 rows x 5 columns]"
      ]
     },
     "execution_count": 123,
     "metadata": {},
     "output_type": "execute_result"
    }
   ],
   "source": [
    "moderate=data[(data['Year']==2018) & (data['PM2.5']>=12.1) & (data['PM2.5']<=35.4)]\n",
    "moderate"
   ]
  },
  {
   "cell_type": "markdown",
   "id": "5a2e616f-abc3-4bb7-a9bd-34631d25a409",
   "metadata": {},
   "source": [
    "# . How was the weather in the month of January and July."
   ]
  },
  {
   "cell_type": "code",
   "execution_count": 124,
   "id": "71f510b9-c7e2-49c2-8891-fb12f582fbfd",
   "metadata": {},
   "outputs": [
    {
     "data": {
      "text/html": [
       "<div>\n",
       "<style scoped>\n",
       "    .dataframe tbody tr th:only-of-type {\n",
       "        vertical-align: middle;\n",
       "    }\n",
       "\n",
       "    .dataframe tbody tr th {\n",
       "        vertical-align: top;\n",
       "    }\n",
       "\n",
       "    .dataframe thead th {\n",
       "        text-align: right;\n",
       "    }\n",
       "</style>\n",
       "<table border=\"1\" class=\"dataframe\">\n",
       "  <thead>\n",
       "    <tr style=\"text-align: right;\">\n",
       "      <th></th>\n",
       "      <th>DateTime</th>\n",
       "      <th>PM2.5</th>\n",
       "      <th>Year</th>\n",
       "      <th>Month</th>\n",
       "      <th>Hour</th>\n",
       "    </tr>\n",
       "  </thead>\n",
       "  <tbody>\n",
       "    <tr>\n",
       "      <th>0</th>\n",
       "      <td>2018-01-01 00:00:00</td>\n",
       "      <td>90.19</td>\n",
       "      <td>2018.0</td>\n",
       "      <td>1</td>\n",
       "      <td>0</td>\n",
       "    </tr>\n",
       "    <tr>\n",
       "      <th>1</th>\n",
       "      <td>2018-01-01 01:00:00</td>\n",
       "      <td>86.98</td>\n",
       "      <td>2018.0</td>\n",
       "      <td>1</td>\n",
       "      <td>1</td>\n",
       "    </tr>\n",
       "  </tbody>\n",
       "</table>\n",
       "</div>"
      ],
      "text/plain": [
       "             DateTime  PM2.5    Year  Month  Hour\n",
       "0 2018-01-01 00:00:00  90.19  2018.0      1     0\n",
       "1 2018-01-01 01:00:00  86.98  2018.0      1     1"
      ]
     },
     "execution_count": 124,
     "metadata": {},
     "output_type": "execute_result"
    }
   ],
   "source": [
    "data.head(2)"
   ]
  },
  {
   "cell_type": "code",
   "execution_count": 129,
   "id": "3372cadd-a056-44f3-b2b9-7f44f46a1a1f",
   "metadata": {},
   "outputs": [
    {
     "data": {
      "text/plain": [
       "48.4641073080481"
      ]
     },
     "execution_count": 129,
     "metadata": {},
     "output_type": "execute_result"
    }
   ],
   "source": [
    "data[(data['Month']==1)]['PM2.5'].mean()"
   ]
  },
  {
   "cell_type": "code",
   "execution_count": 130,
   "id": "d1efd3e5-2e28-400d-af3a-edd33568b272",
   "metadata": {},
   "outputs": [
    {
     "data": {
      "text/plain": [
       "46.97078154425612"
      ]
     },
     "execution_count": 130,
     "metadata": {},
     "output_type": "execute_result"
    }
   ],
   "source": [
    "data[(data['Month']==7)]['PM2.5'].mean()"
   ]
  },
  {
   "cell_type": "code",
   "execution_count": null,
   "id": "ba6cfbe2-dcc4-4b3b-9b94-4f423e0d3477",
   "metadata": {},
   "outputs": [],
   "source": []
  }
 ],
 "metadata": {
  "kernelspec": {
   "display_name": "Python 3 (ipykernel)",
   "language": "python",
   "name": "python3"
  },
  "language_info": {
   "codemirror_mode": {
    "name": "ipython",
    "version": 3
   },
   "file_extension": ".py",
   "mimetype": "text/x-python",
   "name": "python",
   "nbconvert_exporter": "python",
   "pygments_lexer": "ipython3",
   "version": "3.11.7"
  }
 },
 "nbformat": 4,
 "nbformat_minor": 5
}
