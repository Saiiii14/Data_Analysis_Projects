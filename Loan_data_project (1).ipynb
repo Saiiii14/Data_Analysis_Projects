{
 "cells": [
  {
   "cell_type": "code",
   "execution_count": 1,
   "id": "230b56d6-30c2-4c97-a566-c499b73d2a5b",
   "metadata": {},
   "outputs": [],
   "source": [
    "import numpy as np"
   ]
  },
  {
   "cell_type": "code",
   "execution_count": 2,
   "id": "b26fba17-7b53-49e0-9a57-81e6ac098004",
   "metadata": {},
   "outputs": [],
   "source": [
    "np.set_printoptions(suppress=True,linewidth=100,precision=2)"
   ]
  },
  {
   "cell_type": "code",
   "execution_count": 3,
   "id": "4c6bc76b-f61f-46f6-af79-2e1e42018706",
   "metadata": {},
   "outputs": [
    {
     "data": {
      "text/plain": [
       "array([[48010226.  ,         nan,    35000.  , ...,         nan,         nan,     9452.96],\n",
       "       [57693261.  ,         nan,    30000.  , ...,         nan,         nan,     4679.7 ],\n",
       "       [59432726.  ,         nan,    15000.  , ...,         nan,         nan,     1969.83],\n",
       "       ...,\n",
       "       [50415990.  ,         nan,    10000.  , ...,         nan,         nan,     2185.64],\n",
       "       [46154151.  ,         nan,         nan, ...,         nan,         nan,     3199.4 ],\n",
       "       [66055249.  ,         nan,    10000.  , ...,         nan,         nan,      301.9 ]])"
      ]
     },
     "execution_count": 3,
     "metadata": {},
     "output_type": "execute_result"
    }
   ],
   "source": [
    "raw_data_np=np.genfromtxt(\"C:/Users/Sai Sailesh/Downloads/loan-data.csv\",delimiter=\";\",skip_header=1,autostrip=True)\n",
    "raw_data_np"
   ]
  },
  {
   "cell_type": "code",
   "execution_count": 4,
   "id": "d58d574d-8f44-4c5a-a115-ddf983e8e0fa",
   "metadata": {},
   "outputs": [
    {
     "data": {
      "text/plain": [
       "88005"
      ]
     },
     "execution_count": 4,
     "metadata": {},
     "output_type": "execute_result"
    }
   ],
   "source": [
    "np.isnan(raw_data_np).sum()"
   ]
  },
  {
   "cell_type": "code",
   "execution_count": 5,
   "id": "08462d5a-459a-4cee-8efb-14f5915f8562",
   "metadata": {},
   "outputs": [
    {
     "name": "stderr",
     "output_type": "stream",
     "text": [
      "C:\\Users\\Sai Sailesh\\AppData\\Local\\Temp\\ipykernel_7280\\2970112798.py:2: RuntimeWarning: Mean of empty slice\n",
      "  temporary_mean=np.nanmean(raw_data_np,axis=0)\n"
     ]
    }
   ],
   "source": [
    "temporary_fill=np.nanmax(raw_data_np)+1\n",
    "temporary_mean=np.nanmean(raw_data_np,axis=0)"
   ]
  },
  {
   "cell_type": "code",
   "execution_count": 6,
   "id": "4095a749-ddef-4cfc-bc2c-7db5610f6328",
   "metadata": {},
   "outputs": [
    {
     "data": {
      "text/plain": [
       "array([54015809.19,         nan,    15273.46,         nan,    15311.04,         nan,       16.62,\n",
       "            440.92,         nan,         nan,         nan,         nan,         nan,     3143.85])"
      ]
     },
     "execution_count": 6,
     "metadata": {},
     "output_type": "execute_result"
    }
   ],
   "source": [
    "temporary_mean"
   ]
  },
  {
   "cell_type": "code",
   "execution_count": 7,
   "id": "f7a20ca8-5de9-4453-831a-8cfde2d78625",
   "metadata": {},
   "outputs": [
    {
     "name": "stderr",
     "output_type": "stream",
     "text": [
      "C:\\Users\\Sai Sailesh\\AppData\\Local\\Temp\\ipykernel_7280\\4187671863.py:1: RuntimeWarning: All-NaN slice encountered\n",
      "  temporary_stats=np.array([np.nanmin(raw_data_np,axis=0),temporary_mean,np.nanmax(raw_data_np,axis=0)])\n"
     ]
    }
   ],
   "source": [
    "temporary_stats=np.array([np.nanmin(raw_data_np,axis=0),temporary_mean,np.nanmax(raw_data_np,axis=0)])"
   ]
  },
  {
   "cell_type": "code",
   "execution_count": 8,
   "id": "d440c789-5135-4868-9b00-6dd0f4eddae8",
   "metadata": {},
   "outputs": [
    {
     "data": {
      "text/plain": [
       "array([[  373332.  ,         nan,     1000.  ,         nan,     1000.  ,         nan,        6.  ,\n",
       "              31.42,         nan,         nan,         nan,         nan,         nan,        0.  ],\n",
       "       [54015809.19,         nan,    15273.46,         nan,    15311.04,         nan,       16.62,\n",
       "             440.92,         nan,         nan,         nan,         nan,         nan,     3143.85],\n",
       "       [68616519.  ,         nan,    35000.  ,         nan,    35000.  ,         nan,       28.99,\n",
       "            1372.97,         nan,         nan,         nan,         nan,         nan,    41913.62]])"
      ]
     },
     "execution_count": 8,
     "metadata": {},
     "output_type": "execute_result"
    }
   ],
   "source": [
    "temporary_stats"
   ]
  },
  {
   "cell_type": "code",
   "execution_count": 9,
   "id": "6bcfaebb-4c9c-41e3-ad95-62d595fb4878",
   "metadata": {},
   "outputs": [
    {
     "name": "stdout",
     "output_type": "stream",
     "text": [
      "[ 1  3  5  8  9 10 11 12]\n"
     ]
    }
   ],
   "source": [
    "columns_string=np.argwhere(np.isnan(temporary_mean)).squeeze()\n",
    "print(columns_string)"
   ]
  },
  {
   "cell_type": "code",
   "execution_count": 10,
   "id": "6f47b474-fbd4-4ef6-9a8a-977ae89a350a",
   "metadata": {},
   "outputs": [
    {
     "data": {
      "text/plain": [
       "array([ 0,  2,  4,  6,  7, 13], dtype=int64)"
      ]
     },
     "execution_count": 10,
     "metadata": {},
     "output_type": "execute_result"
    }
   ],
   "source": [
    "columns_number=np.argwhere(np.isnan(temporary_mean)==False).squeeze()\n",
    "columns_number"
   ]
  },
  {
   "cell_type": "code",
   "execution_count": 11,
   "id": "9a7895e5-05ac-48e2-9ce4-98c560e6fb58",
   "metadata": {},
   "outputs": [
    {
     "name": "stdout",
     "output_type": "stream",
     "text": [
      "[['May-15' 'Current' '36 months' ... 'Verified'\n",
      "  'https://www.lendingclub.com/browse/loanDetail.action?loan_id=48010226' 'CA']\n",
      " ['' 'Current' '36 months' ... 'Source Verified'\n",
      "  'https://www.lendingclub.com/browse/loanDetail.action?loan_id=57693261' 'NY']\n",
      " ['Sep-15' 'Current' '36 months' ... 'Verified'\n",
      "  'https://www.lendingclub.com/browse/loanDetail.action?loan_id=59432726' 'PA']\n",
      " ...\n",
      " ['Jun-15' 'Current' '36 months' ... 'Source Verified'\n",
      "  'https://www.lendingclub.com/browse/loanDetail.action?loan_id=50415990' 'CA']\n",
      " ['Apr-15' 'Current' '36 months' ... 'Source Verified'\n",
      "  'https://www.lendingclub.com/browse/loanDetail.action?loan_id=46154151' 'OH']\n",
      " ['Dec-15' 'Current' '36 months' ... ''\n",
      "  'https://www.lendingclub.com/browse/loanDetail.action?loan_id=66055249' 'IL']]\n"
     ]
    }
   ],
   "source": [
    "loan_data_string=np.genfromtxt(\"C:/Users/Sai Sailesh/Downloads/loan-data.csv\",\n",
    "                               delimiter=\";\",\n",
    "                               skip_header=1,\n",
    "                               autostrip=True,\n",
    "                               usecols=columns_string,\n",
    "                               dtype=np.str_)\n",
    "print(loan_data_string)"
   ]
  },
  {
   "cell_type": "code",
   "execution_count": 12,
   "id": "927858da-412d-413d-8443-1cfe1b1b2435",
   "metadata": {},
   "outputs": [
    {
     "data": {
      "text/plain": [
       "array([[48010226.  ,    35000.  ,    35000.  ,       13.33,     1184.86,     9452.96],\n",
       "       [57693261.  ,    30000.  ,    30000.  , 68616520.  ,      938.57,     4679.7 ],\n",
       "       [59432726.  ,    15000.  ,    15000.  , 68616520.  ,      494.86,     1969.83],\n",
       "       ...,\n",
       "       [50415990.  ,    10000.  ,    10000.  , 68616520.  , 68616520.  ,     2185.64],\n",
       "       [46154151.  , 68616520.  ,    10000.  ,       16.55,      354.3 ,     3199.4 ],\n",
       "       [66055249.  ,    10000.  ,    10000.  , 68616520.  ,      309.97,      301.9 ]])"
      ]
     },
     "execution_count": 12,
     "metadata": {},
     "output_type": "execute_result"
    }
   ],
   "source": [
    "loan_data_number=np.genfromtxt(\"C:/Users/Sai Sailesh/Downloads/loan-data.csv\",\n",
    "                               delimiter=\";\",\n",
    "                               skip_header=1,\n",
    "                               autostrip=True,\n",
    "                               usecols=columns_number,\n",
    "                               filling_values=temporary_fill)\n",
    "loan_data_number"
   ]
  },
  {
   "cell_type": "code",
   "execution_count": 13,
   "id": "263e0810-7d09-47ec-b37c-53f61c82639d",
   "metadata": {},
   "outputs": [
    {
     "data": {
      "text/plain": [
       "array(['id', 'issue_d', 'loan_amnt', 'loan_status', 'funded_amnt', 'term', 'int_rate',\n",
       "       'installment', 'grade', 'sub_grade', 'verification_status', 'url', 'addr_state',\n",
       "       'total_pymnt'], dtype='<U19')"
      ]
     },
     "execution_count": 13,
     "metadata": {},
     "output_type": "execute_result"
    }
   ],
   "source": [
    "header_full=np.genfromtxt(\"C:/Users/Sai Sailesh/Downloads/loan-data.csv\",\n",
    "                               delimiter=\";\",\n",
    "                               skip_footer=raw_data_np.shape[0],\n",
    "                               autostrip=True,\n",
    "                               dtype=np.str_)\n",
    "header_full"
   ]
  },
  {
   "cell_type": "code",
   "execution_count": 14,
   "id": "9be90b2a-9fa5-4e48-aa9d-90568a9e847a",
   "metadata": {},
   "outputs": [],
   "source": [
    "header_string,header_number=header_full[columns_string],header_full[columns_number]"
   ]
  },
  {
   "cell_type": "code",
   "execution_count": 15,
   "id": "cc9ce6fc-6b0e-4ff3-86bd-987d10bf45ff",
   "metadata": {},
   "outputs": [
    {
     "data": {
      "text/plain": [
       "array(['issue_d', 'loan_status', 'term', 'grade', 'sub_grade', 'verification_status', 'url',\n",
       "       'addr_state'], dtype='<U19')"
      ]
     },
     "execution_count": 15,
     "metadata": {},
     "output_type": "execute_result"
    }
   ],
   "source": [
    "header_string"
   ]
  },
  {
   "cell_type": "code",
   "execution_count": 16,
   "id": "45c29166-d61d-4f63-bea7-ddfd7fc9f770",
   "metadata": {},
   "outputs": [
    {
     "data": {
      "text/plain": [
       "array(['id', 'loan_amnt', 'funded_amnt', 'int_rate', 'installment', 'total_pymnt'], dtype='<U19')"
      ]
     },
     "execution_count": 16,
     "metadata": {},
     "output_type": "execute_result"
    }
   ],
   "source": [
    "header_number"
   ]
  },
  {
   "cell_type": "code",
   "execution_count": 17,
   "id": "c1d67a56-1452-4216-afb1-a26fa75792dc",
   "metadata": {},
   "outputs": [],
   "source": [
    "def checkpoint(file_name,checkpoint_header,checkpoint_data):\n",
    "    np.savez(file_name, header=checkpoint_header, data=checkpoint_data)\n",
    "    checkpoint_variable=np.load(file_name+\".npz\")\n",
    "    return checkpoint_variable"
   ]
  },
  {
   "cell_type": "code",
   "execution_count": 18,
   "id": "62c4c94b-d323-4ba1-8789-e053abd17932",
   "metadata": {},
   "outputs": [
    {
     "data": {
      "text/plain": [
       "array([['May-15', 'Current', '36 months', ..., 'Verified',\n",
       "        'https://www.lendingclub.com/browse/loanDetail.action?loan_id=48010226', 'CA'],\n",
       "       ['', 'Current', '36 months', ..., 'Source Verified',\n",
       "        'https://www.lendingclub.com/browse/loanDetail.action?loan_id=57693261', 'NY'],\n",
       "       ['Sep-15', 'Current', '36 months', ..., 'Verified',\n",
       "        'https://www.lendingclub.com/browse/loanDetail.action?loan_id=59432726', 'PA'],\n",
       "       ...,\n",
       "       ['Jun-15', 'Current', '36 months', ..., 'Source Verified',\n",
       "        'https://www.lendingclub.com/browse/loanDetail.action?loan_id=50415990', 'CA'],\n",
       "       ['Apr-15', 'Current', '36 months', ..., 'Source Verified',\n",
       "        'https://www.lendingclub.com/browse/loanDetail.action?loan_id=46154151', 'OH'],\n",
       "       ['Dec-15', 'Current', '36 months', ..., '',\n",
       "        'https://www.lendingclub.com/browse/loanDetail.action?loan_id=66055249', 'IL']],\n",
       "      dtype='<U69')"
      ]
     },
     "execution_count": 18,
     "metadata": {},
     "output_type": "execute_result"
    }
   ],
   "source": [
    "checkpoint_test=checkpoint(\"checkpoint_test\",header_string,loan_data_string)\n",
    "checkpoint_test['data']"
   ]
  },
  {
   "cell_type": "code",
   "execution_count": 19,
   "id": "40b9d518-e594-499f-adc9-b4d2f92042ce",
   "metadata": {},
   "outputs": [
    {
     "data": {
      "text/plain": [
       "array(['issue_d', 'loan_status', 'term', 'grade', 'sub_grade', 'verification_status', 'url',\n",
       "       'addr_state'], dtype='<U19')"
      ]
     },
     "execution_count": 19,
     "metadata": {},
     "output_type": "execute_result"
    }
   ],
   "source": [
    "checkpoint_test=checkpoint(\"checkpoint_test\",header_string,loan_data_string)\n",
    "checkpoint_test['header']"
   ]
  },
  {
   "cell_type": "code",
   "execution_count": 20,
   "id": "d7597aeb-64ff-447e-be4b-ad08c7436c89",
   "metadata": {},
   "outputs": [
    {
     "data": {
      "text/plain": [
       "array(['issue_d', 'loan_status', 'term', 'grade', 'sub_grade', 'verification_status', 'url',\n",
       "       'addr_state'], dtype='<U19')"
      ]
     },
     "execution_count": 20,
     "metadata": {},
     "output_type": "execute_result"
    }
   ],
   "source": [
    "header_string"
   ]
  },
  {
   "cell_type": "code",
   "execution_count": 21,
   "id": "8a2f481a-f9ba-4f05-b346-e5199fb2cefe",
   "metadata": {},
   "outputs": [],
   "source": [
    "header_string[0]=\"issue_date\""
   ]
  },
  {
   "cell_type": "code",
   "execution_count": 22,
   "id": "afd86e61-a1ea-4c17-b4c9-4343a96d9595",
   "metadata": {},
   "outputs": [
    {
     "data": {
      "text/plain": [
       "array(['issue_date', 'loan_status', 'term', 'grade', 'sub_grade', 'verification_status', 'url',\n",
       "       'addr_state'], dtype='<U19')"
      ]
     },
     "execution_count": 22,
     "metadata": {},
     "output_type": "execute_result"
    }
   ],
   "source": [
    "header_string"
   ]
  },
  {
   "cell_type": "code",
   "execution_count": 23,
   "id": "820a4aa4-9b54-4443-8fca-7b0a82774233",
   "metadata": {},
   "outputs": [
    {
     "data": {
      "text/plain": [
       "array([['May-15', 'Current', '36 months', ..., 'Verified',\n",
       "        'https://www.lendingclub.com/browse/loanDetail.action?loan_id=48010226', 'CA'],\n",
       "       ['', 'Current', '36 months', ..., 'Source Verified',\n",
       "        'https://www.lendingclub.com/browse/loanDetail.action?loan_id=57693261', 'NY'],\n",
       "       ['Sep-15', 'Current', '36 months', ..., 'Verified',\n",
       "        'https://www.lendingclub.com/browse/loanDetail.action?loan_id=59432726', 'PA'],\n",
       "       ...,\n",
       "       ['Jun-15', 'Current', '36 months', ..., 'Source Verified',\n",
       "        'https://www.lendingclub.com/browse/loanDetail.action?loan_id=50415990', 'CA'],\n",
       "       ['Apr-15', 'Current', '36 months', ..., 'Source Verified',\n",
       "        'https://www.lendingclub.com/browse/loanDetail.action?loan_id=46154151', 'OH'],\n",
       "       ['Dec-15', 'Current', '36 months', ..., '',\n",
       "        'https://www.lendingclub.com/browse/loanDetail.action?loan_id=66055249', 'IL']],\n",
       "      dtype='<U69')"
      ]
     },
     "execution_count": 23,
     "metadata": {},
     "output_type": "execute_result"
    }
   ],
   "source": [
    "loan_data_string"
   ]
  },
  {
   "cell_type": "code",
   "execution_count": 24,
   "id": "fc17074a-38d2-4a90-897a-c9a3188719f0",
   "metadata": {},
   "outputs": [],
   "source": [
    "loan_data_string[:,0]=np.chararray.strip(loan_data_string[:,0],\"-15\")"
   ]
  },
  {
   "cell_type": "code",
   "execution_count": 25,
   "id": "8c6d1e72-45a8-4df2-a52e-d44f8e03413d",
   "metadata": {},
   "outputs": [
    {
     "data": {
      "text/plain": [
       "array(['', 'Apr', 'Aug', 'Dec', 'Feb', 'Jan', 'Jul', 'Jun', 'Mar', 'May', 'Nov', 'Oct', 'Sep'],\n",
       "      dtype='<U69')"
      ]
     },
     "execution_count": 25,
     "metadata": {},
     "output_type": "execute_result"
    }
   ],
   "source": [
    "np.unique(loan_data_string[:,0])"
   ]
  },
  {
   "cell_type": "code",
   "execution_count": 26,
   "id": "c6058f7f-8007-482e-81aa-e21fb9c787f7",
   "metadata": {},
   "outputs": [
    {
     "data": {
      "text/plain": [
       "array(['', 'Apr', 'Aug', 'Dec', 'Feb', 'Jan', 'Jul', 'Jun', 'Mar', 'May', 'Nov', 'Oct', 'Sep'],\n",
       "      dtype='<U69')"
      ]
     },
     "execution_count": 26,
     "metadata": {},
     "output_type": "execute_result"
    }
   ],
   "source": [
    "np.unique(loan_data_string[:,0])"
   ]
  },
  {
   "cell_type": "code",
   "execution_count": 27,
   "id": "324841c6-28e5-464e-823a-e294a47342d6",
   "metadata": {},
   "outputs": [
    {
     "data": {
      "text/plain": [
       "array(['', 'Jan', 'Feb', 'Mar', 'Apr', 'May', 'Jun', 'Jul', 'Aug', 'Sep', 'Oct', 'Nov', 'Dec'],\n",
       "      dtype='<U3')"
      ]
     },
     "execution_count": 27,
     "metadata": {},
     "output_type": "execute_result"
    }
   ],
   "source": [
    "months=np.array(['','Jan','Feb','Mar','Apr','May','Jun','Jul','Aug','Sep','Oct','Nov','Dec'])\n",
    "months"
   ]
  },
  {
   "cell_type": "code",
   "execution_count": 28,
   "id": "e4897785-58ef-4d24-9191-8da57afc3a67",
   "metadata": {},
   "outputs": [],
   "source": [
    "for i in range(13):\n",
    "    loan_data_string[:,0]=np.where(loan_data_string[:,0]==months[i],\n",
    "                                   i,\n",
    "                                   loan_data_string[:,0])"
   ]
  },
  {
   "cell_type": "code",
   "execution_count": 29,
   "id": "6d0a3ca5-36aa-4ce4-b55c-205421449b3c",
   "metadata": {},
   "outputs": [
    {
     "data": {
      "text/plain": [
       "array(['0', '1', '10', '11', '12', '2', '3', '4', '5', '6', '7', '8', '9'], dtype='<U69')"
      ]
     },
     "execution_count": 29,
     "metadata": {},
     "output_type": "execute_result"
    }
   ],
   "source": [
    "np.unique(loan_data_string[:,0])"
   ]
  },
  {
   "cell_type": "code",
   "execution_count": 30,
   "id": "fe693745-2486-4b04-aaff-4aca28231f33",
   "metadata": {},
   "outputs": [
    {
     "data": {
      "text/plain": [
       "array(['issue_date', 'loan_status', 'term', 'grade', 'sub_grade', 'verification_status', 'url',\n",
       "       'addr_state'], dtype='<U19')"
      ]
     },
     "execution_count": 30,
     "metadata": {},
     "output_type": "execute_result"
    }
   ],
   "source": [
    "header_string"
   ]
  },
  {
   "cell_type": "code",
   "execution_count": 31,
   "id": "a2484d8e-be2c-4fa1-804c-b270a67de825",
   "metadata": {},
   "outputs": [
    {
     "data": {
      "text/plain": [
       "array(['', 'Charged Off', 'Current', 'Default', 'Fully Paid', 'In Grace Period', 'Issued',\n",
       "       'Late (16-30 days)', 'Late (31-120 days)'], dtype='<U69')"
      ]
     },
     "execution_count": 31,
     "metadata": {},
     "output_type": "execute_result"
    }
   ],
   "source": [
    "np.unique(loan_data_string[:,1])"
   ]
  },
  {
   "cell_type": "code",
   "execution_count": 32,
   "id": "05fece9c-97fd-4997-8739-c01b8ba0996a",
   "metadata": {},
   "outputs": [
    {
     "data": {
      "text/plain": [
       "9"
      ]
     },
     "execution_count": 32,
     "metadata": {},
     "output_type": "execute_result"
    }
   ],
   "source": [
    "np.unique(loan_data_string[:,1]).size"
   ]
  },
  {
   "cell_type": "code",
   "execution_count": 33,
   "id": "7395c1b7-9ede-4e73-974c-0d31a1838ae7",
   "metadata": {},
   "outputs": [],
   "source": [
    "status_bad=np.array(['','Charged Off','Default','Late (31-120 days)'])"
   ]
  },
  {
   "cell_type": "code",
   "execution_count": 34,
   "id": "af95168e-8e60-437a-9c3c-a2fb6c5434ad",
   "metadata": {},
   "outputs": [
    {
     "data": {
      "text/plain": [
       "array(['', 'Charged Off', 'Default', 'Late (31-120 days)'], dtype='<U18')"
      ]
     },
     "execution_count": 34,
     "metadata": {},
     "output_type": "execute_result"
    }
   ],
   "source": [
    "status_bad"
   ]
  },
  {
   "cell_type": "code",
   "execution_count": 35,
   "id": "8d92e7b7-36cb-4a27-8336-aa883d1014d9",
   "metadata": {},
   "outputs": [],
   "source": [
    "loan_data_string[:,1]=np.where(np.isin(loan_data_string[:,1],status_bad),0,1)"
   ]
  },
  {
   "cell_type": "code",
   "execution_count": 36,
   "id": "fb77442f-000a-4de0-9f1a-5a783c5745dd",
   "metadata": {},
   "outputs": [
    {
     "data": {
      "text/plain": [
       "array(['0', '1'], dtype='<U69')"
      ]
     },
     "execution_count": 36,
     "metadata": {},
     "output_type": "execute_result"
    }
   ],
   "source": [
    "np.unique(loan_data_string[:,1])"
   ]
  },
  {
   "cell_type": "code",
   "execution_count": 37,
   "id": "fb84676c-71e9-4c5b-99c6-bd9f47fe9ef8",
   "metadata": {},
   "outputs": [
    {
     "data": {
      "text/plain": [
       "array(['issue_date', 'loan_status', 'term', 'grade', 'sub_grade', 'verification_status', 'url',\n",
       "       'addr_state'], dtype='<U19')"
      ]
     },
     "execution_count": 37,
     "metadata": {},
     "output_type": "execute_result"
    }
   ],
   "source": [
    "header_string"
   ]
  },
  {
   "cell_type": "code",
   "execution_count": 38,
   "id": "7d35fa9f-b0cc-4485-82fb-8b3c4e3fbd3e",
   "metadata": {},
   "outputs": [
    {
     "data": {
      "text/plain": [
       "array(['36 months', '36 months', '36 months', ..., '36 months', '36 months', '36 months'],\n",
       "      dtype='<U69')"
      ]
     },
     "execution_count": 38,
     "metadata": {},
     "output_type": "execute_result"
    }
   ],
   "source": [
    "loan_data_string[:,2]"
   ]
  },
  {
   "cell_type": "code",
   "execution_count": 39,
   "id": "81c63dca-25d9-49f9-ac3a-7d81fd15617f",
   "metadata": {},
   "outputs": [
    {
     "data": {
      "text/plain": [
       "array(['', '36 months', '60 months'], dtype='<U69')"
      ]
     },
     "execution_count": 39,
     "metadata": {},
     "output_type": "execute_result"
    }
   ],
   "source": [
    "np.unique(loan_data_string[:,2])"
   ]
  },
  {
   "cell_type": "code",
   "execution_count": 40,
   "id": "676bdd4d-78a3-4ddf-ad78-1024963c8622",
   "metadata": {},
   "outputs": [
    {
     "data": {
      "text/plain": [
       "array(['36 ', '36 ', '36 ', ..., '36 ', '36 ', '36 '], dtype='<U69')"
      ]
     },
     "execution_count": 40,
     "metadata": {},
     "output_type": "execute_result"
    }
   ],
   "source": [
    "loan_data_string[:,2]=np.chararray.strip(loan_data_string[:,2], 'months')\n",
    "loan_data_string[:,2]\n"
   ]
  },
  {
   "cell_type": "code",
   "execution_count": 41,
   "id": "d454fb20-4dc4-436e-b967-aaa65d47f41e",
   "metadata": {},
   "outputs": [
    {
     "data": {
      "text/plain": [
       "array(['', '36 ', '60 '], dtype='<U69')"
      ]
     },
     "execution_count": 41,
     "metadata": {},
     "output_type": "execute_result"
    }
   ],
   "source": [
    "np.unique(loan_data_string[:,2])"
   ]
  },
  {
   "cell_type": "code",
   "execution_count": 42,
   "id": "1fc87d66-161e-46f9-a007-1b48c5dda714",
   "metadata": {},
   "outputs": [
    {
     "data": {
      "text/plain": [
       "array(['36 ', '36 ', '36 ', ..., '36 ', '36 ', '36 '], dtype='<U69')"
      ]
     },
     "execution_count": 42,
     "metadata": {},
     "output_type": "execute_result"
    }
   ],
   "source": [
    "loan_data_string[:,2]=np.where(loan_data_string[:,2]=='',\n",
    "                               '60',\n",
    "                               loan_data_string[:,2])\n",
    "loan_data_string[:,2]\n",
    "                               "
   ]
  },
  {
   "cell_type": "code",
   "execution_count": 43,
   "id": "1ec41d25-4949-40f9-92c6-eadc638295d2",
   "metadata": {},
   "outputs": [
    {
     "data": {
      "text/plain": [
       "array(['36 ', '60', '60 '], dtype='<U69')"
      ]
     },
     "execution_count": 43,
     "metadata": {},
     "output_type": "execute_result"
    }
   ],
   "source": [
    "np.unique(loan_data_string[:,2])"
   ]
  },
  {
   "cell_type": "code",
   "execution_count": 44,
   "id": "15319464-6605-480a-8c5c-cf1971730d6a",
   "metadata": {},
   "outputs": [
    {
     "data": {
      "text/plain": [
       "array(['issue_date', 'loan_status', 'term', 'grade', 'sub_grade', 'verification_status', 'url',\n",
       "       'addr_state'], dtype='<U19')"
      ]
     },
     "execution_count": 44,
     "metadata": {},
     "output_type": "execute_result"
    }
   ],
   "source": [
    "header_string"
   ]
  },
  {
   "cell_type": "code",
   "execution_count": 45,
   "id": "ec85fa15-5964-4b62-a020-db05284e39f1",
   "metadata": {},
   "outputs": [
    {
     "data": {
      "text/plain": [
       "array(['C', 'A', 'B', ..., 'A', 'D', 'A'], dtype='<U69')"
      ]
     },
     "execution_count": 45,
     "metadata": {},
     "output_type": "execute_result"
    }
   ],
   "source": [
    "loan_data_string[:,3]"
   ]
  },
  {
   "cell_type": "code",
   "execution_count": 46,
   "id": "eef586ea-2cb1-497e-a9f5-11392ab6bddc",
   "metadata": {},
   "outputs": [
    {
     "data": {
      "text/plain": [
       "array(['', 'A', 'B', 'C', 'D', 'E', 'F', 'G'], dtype='<U69')"
      ]
     },
     "execution_count": 46,
     "metadata": {},
     "output_type": "execute_result"
    }
   ],
   "source": [
    "np.unique(loan_data_string[:,3])"
   ]
  },
  {
   "cell_type": "code",
   "execution_count": 47,
   "id": "1ca4ef4a-9e66-4ef8-8cff-8d53987b8e01",
   "metadata": {},
   "outputs": [
    {
     "data": {
      "text/plain": [
       "array(['', 'A1', 'A2', 'A3', 'A4', 'A5', 'B1', 'B2', 'B3', 'B4', 'B5', 'C1', 'C2', 'C3', 'C4',\n",
       "       'C5', 'D1', 'D2', 'D3', 'D4', 'D5', 'E1', 'E2', 'E3', 'E4', 'E5', 'F1', 'F2', 'F3', 'F4',\n",
       "       'F5', 'G1', 'G2', 'G3', 'G4', 'G5'], dtype='<U69')"
      ]
     },
     "execution_count": 47,
     "metadata": {},
     "output_type": "execute_result"
    }
   ],
   "source": [
    "np.unique(loan_data_string[:,4])"
   ]
  },
  {
   "cell_type": "code",
   "execution_count": 48,
   "id": "bb21e756-bb4d-4f65-9e16-ef79334e6f37",
   "metadata": {},
   "outputs": [],
   "source": [
    "for i in np.unique(loan_data_string[:,3])[1:]:\n",
    "    loan_data_string[:,4]=np.where((loan_data_string[:,4]=='') &(loan_data_string[:,3]==i),\n",
    "                                   i+ '5',\n",
    "                                   loan_data_string[:,4])"
   ]
  },
  {
   "cell_type": "code",
   "execution_count": 49,
   "id": "0f5e4065-447f-4da8-83d3-fd3f3d88286b",
   "metadata": {},
   "outputs": [
    {
     "data": {
      "text/plain": [
       "(array(['', 'A1', 'A2', 'A3', 'A4', 'A5', 'B1', 'B2', 'B3', 'B4', 'B5', 'C1', 'C2', 'C3', 'C4',\n",
       "        'C5', 'D1', 'D2', 'D3', 'D4', 'D5', 'E1', 'E2', 'E3', 'E4', 'E5', 'F1', 'F2', 'F3', 'F4',\n",
       "        'F5', 'G1', 'G2', 'G3', 'G4', 'G5'], dtype='<U69'),\n",
       " array([  9, 285, 278, 239, 323, 592, 509, 517, 530, 553, 633, 629, 567, 586, 564, 577, 391, 267,\n",
       "        250, 255, 288, 235, 162, 171, 139, 160,  94,  52,  34,  43,  24,  19,  10,   3,   7,   5],\n",
       "       dtype=int64))"
      ]
     },
     "execution_count": 49,
     "metadata": {},
     "output_type": "execute_result"
    }
   ],
   "source": [
    "np.unique(loan_data_string[:,4],return_counts=True)"
   ]
  },
  {
   "cell_type": "code",
   "execution_count": 50,
   "id": "c9b8b800-9ca9-46bc-98f3-a99b478a78ef",
   "metadata": {},
   "outputs": [],
   "source": [
    "loan_data_string[:,4]=np.where((loan_data_string[:,4]==''),\n",
    "                                'H5',\n",
    "                                loan_data_string[:,4])"
   ]
  },
  {
   "cell_type": "code",
   "execution_count": 51,
   "id": "3d921466-cbed-4f2e-8855-134a3a157b17",
   "metadata": {},
   "outputs": [
    {
     "data": {
      "text/plain": [
       "array(['A1', 'A2', 'A3', 'A4', 'A5', 'B1', 'B2', 'B3', 'B4', 'B5', 'C1', 'C2', 'C3', 'C4', 'C5',\n",
       "       'D1', 'D2', 'D3', 'D4', 'D5', 'E1', 'E2', 'E3', 'E4', 'E5', 'F1', 'F2', 'F3', 'F4', 'F5',\n",
       "       'G1', 'G2', 'G3', 'G4', 'G5', 'H5'], dtype='<U69')"
      ]
     },
     "execution_count": 51,
     "metadata": {},
     "output_type": "execute_result"
    }
   ],
   "source": [
    "np.unique(loan_data_string[:,4])"
   ]
  },
  {
   "cell_type": "code",
   "execution_count": 52,
   "id": "861b7838-7997-458e-9263-e98da5fb4334",
   "metadata": {},
   "outputs": [],
   "source": [
    "loan_data_string=np.delete(loan_data_string,3,axis=1)"
   ]
  },
  {
   "cell_type": "code",
   "execution_count": 53,
   "id": "f039abf6-eaff-485f-974d-1af4990fb5d3",
   "metadata": {},
   "outputs": [
    {
     "data": {
      "text/plain": [
       "array(['C3', 'A5', 'B5', ..., 'A5', 'D2', 'A4'], dtype='<U69')"
      ]
     },
     "execution_count": 53,
     "metadata": {},
     "output_type": "execute_result"
    }
   ],
   "source": [
    "loan_data_string[:,3]"
   ]
  },
  {
   "cell_type": "code",
   "execution_count": 54,
   "id": "87dfb658-8319-4916-8f05-ceb01da1f20f",
   "metadata": {},
   "outputs": [],
   "source": [
    "header_string=np.delete(header_string,3,)"
   ]
  },
  {
   "cell_type": "code",
   "execution_count": 55,
   "id": "4f7381cc-668f-4fbf-b8d2-d283e0df141d",
   "metadata": {},
   "outputs": [
    {
     "data": {
      "text/plain": [
       "'sub_grade'"
      ]
     },
     "execution_count": 55,
     "metadata": {},
     "output_type": "execute_result"
    }
   ],
   "source": [
    "header_string[3]"
   ]
  },
  {
   "cell_type": "code",
   "execution_count": 56,
   "id": "998df49e-9912-4e33-a99a-0b6975df4e2d",
   "metadata": {},
   "outputs": [
    {
     "data": {
      "text/plain": [
       "array(['A1', 'A2', 'A3', 'A4', 'A5', 'B1', 'B2', 'B3', 'B4', 'B5', 'C1', 'C2', 'C3', 'C4', 'C5',\n",
       "       'D1', 'D2', 'D3', 'D4', 'D5', 'E1', 'E2', 'E3', 'E4', 'E5', 'F1', 'F2', 'F3', 'F4', 'F5',\n",
       "       'G1', 'G2', 'G3', 'G4', 'G5', 'H5'], dtype='<U69')"
      ]
     },
     "execution_count": 56,
     "metadata": {},
     "output_type": "execute_result"
    }
   ],
   "source": [
    "np.unique(loan_data_string[:,3])"
   ]
  },
  {
   "cell_type": "code",
   "execution_count": 57,
   "id": "051c9f73-c92e-4091-92f9-9783cadeceba",
   "metadata": {},
   "outputs": [],
   "source": [
    "keys=list(np.unique(loan_data_string[:,3]))\n",
    "values=list(range(1,np.unique(loan_data_string[:,3]).shape[0]+1))\n",
    "dict_sub_grade=dict(zip(keys,values))          "
   ]
  },
  {
   "cell_type": "code",
   "execution_count": 58,
   "id": "ed58d6e8-cf51-4d5a-bc86-339b86d5da0e",
   "metadata": {},
   "outputs": [
    {
     "data": {
      "text/plain": [
       "{'A1': 1,\n",
       " 'A2': 2,\n",
       " 'A3': 3,\n",
       " 'A4': 4,\n",
       " 'A5': 5,\n",
       " 'B1': 6,\n",
       " 'B2': 7,\n",
       " 'B3': 8,\n",
       " 'B4': 9,\n",
       " 'B5': 10,\n",
       " 'C1': 11,\n",
       " 'C2': 12,\n",
       " 'C3': 13,\n",
       " 'C4': 14,\n",
       " 'C5': 15,\n",
       " 'D1': 16,\n",
       " 'D2': 17,\n",
       " 'D3': 18,\n",
       " 'D4': 19,\n",
       " 'D5': 20,\n",
       " 'E1': 21,\n",
       " 'E2': 22,\n",
       " 'E3': 23,\n",
       " 'E4': 24,\n",
       " 'E5': 25,\n",
       " 'F1': 26,\n",
       " 'F2': 27,\n",
       " 'F3': 28,\n",
       " 'F4': 29,\n",
       " 'F5': 30,\n",
       " 'G1': 31,\n",
       " 'G2': 32,\n",
       " 'G3': 33,\n",
       " 'G4': 34,\n",
       " 'G5': 35,\n",
       " 'H5': 36}"
      ]
     },
     "execution_count": 58,
     "metadata": {},
     "output_type": "execute_result"
    }
   ],
   "source": [
    "dict_sub_grade"
   ]
  },
  {
   "cell_type": "code",
   "execution_count": 59,
   "id": "09846e15-63b0-4bc8-892e-348c968cf826",
   "metadata": {},
   "outputs": [],
   "source": [
    "for i in np.unique(loan_data_string[:,3]):\n",
    "        loan_data_string[:,3]=np.where(loan_data_string[:,3]==i,\n",
    "                                       dict_sub_grade[i],\n",
    "                                       loan_data_string[:,3])"
   ]
  },
  {
   "cell_type": "code",
   "execution_count": 60,
   "id": "622c7bfa-b024-41c6-bb81-02aebc53b93a",
   "metadata": {},
   "outputs": [
    {
     "data": {
      "text/plain": [
       "array(['1', '10', '11', '12', '13', '14', '15', '16', '17', '18', '19', '2', '20', '21', '22',\n",
       "       '23', '24', '25', '26', '27', '28', '29', '3', '30', '31', '32', '33', '34', '35', '36',\n",
       "       '4', '5', '6', '7', '8', '9'], dtype='<U69')"
      ]
     },
     "execution_count": 60,
     "metadata": {},
     "output_type": "execute_result"
    }
   ],
   "source": [
    "np.unique(loan_data_string[:,3])"
   ]
  },
  {
   "cell_type": "code",
   "execution_count": 61,
   "id": "9c6b5633-9922-4820-8e08-3a43036d9e40",
   "metadata": {},
   "outputs": [
    {
     "data": {
      "text/plain": [
       "array(['issue_date', 'loan_status', 'term', 'sub_grade', 'verification_status', 'url',\n",
       "       'addr_state'], dtype='<U19')"
      ]
     },
     "execution_count": 61,
     "metadata": {},
     "output_type": "execute_result"
    }
   ],
   "source": [
    "header_string"
   ]
  },
  {
   "cell_type": "code",
   "execution_count": 62,
   "id": "85946708-ce8b-40dc-ac1c-1cc1ec96b256",
   "metadata": {},
   "outputs": [
    {
     "data": {
      "text/plain": [
       "array(['', 'Not Verified', 'Source Verified', 'Verified'], dtype='<U69')"
      ]
     },
     "execution_count": 62,
     "metadata": {},
     "output_type": "execute_result"
    }
   ],
   "source": [
    "np.unique(loan_data_string[:,4])"
   ]
  },
  {
   "cell_type": "code",
   "execution_count": 63,
   "id": "8bc88687-f152-4421-a8f6-6a8ea1e5d41f",
   "metadata": {},
   "outputs": [],
   "source": [
    "loan_data_string[:,4]=np.where((loan_data_string[:,4]=='') | (loan_data_string[:,4]=='Not Verified'),0,1)"
   ]
  },
  {
   "cell_type": "code",
   "execution_count": 64,
   "id": "bcd153f3-ac28-4e18-b677-fc607f75fa2b",
   "metadata": {},
   "outputs": [
    {
     "data": {
      "text/plain": [
       "array(['0', '1'], dtype='<U69')"
      ]
     },
     "execution_count": 64,
     "metadata": {},
     "output_type": "execute_result"
    }
   ],
   "source": [
    "np.unique(loan_data_string[:,4])"
   ]
  },
  {
   "cell_type": "code",
   "execution_count": 65,
   "id": "ad79a5a5-080b-410b-a08e-4e98cbc1c252",
   "metadata": {},
   "outputs": [
    {
     "data": {
      "text/plain": [
       "array(['https://www.lendingclub.com/browse/loanDetail.action?loan_id=48010226',\n",
       "       'https://www.lendingclub.com/browse/loanDetail.action?loan_id=57693261',\n",
       "       'https://www.lendingclub.com/browse/loanDetail.action?loan_id=59432726', ...,\n",
       "       'https://www.lendingclub.com/browse/loanDetail.action?loan_id=50415990',\n",
       "       'https://www.lendingclub.com/browse/loanDetail.action?loan_id=46154151',\n",
       "       'https://www.lendingclub.com/browse/loanDetail.action?loan_id=66055249'], dtype='<U69')"
      ]
     },
     "execution_count": 65,
     "metadata": {},
     "output_type": "execute_result"
    }
   ],
   "source": [
    "loan_data_string[:,5]"
   ]
  },
  {
   "cell_type": "code",
   "execution_count": 66,
   "id": "25e32ff2-a1c8-4e94-aad4-b1d91fe9a9fd",
   "metadata": {},
   "outputs": [
    {
     "data": {
      "text/plain": [
       "chararray(['48010226', '57693261', '59432726', ..., '50415990', '46154151', '66055249'],\n",
       "          dtype='<U69')"
      ]
     },
     "execution_count": 66,
     "metadata": {},
     "output_type": "execute_result"
    }
   ],
   "source": [
    "np.chararray.strip(loan_data_string[:,5],\"https://www.lendingclub.com/browse/loanDetail.action?loan_id=\")"
   ]
  },
  {
   "cell_type": "code",
   "execution_count": 67,
   "id": "03927153-b50d-47fd-9dde-7612e6443984",
   "metadata": {},
   "outputs": [],
   "source": [
    "loan_data_string[:,5]=np.chararray.strip(loan_data_string[:,5],\"https://www.lendingclub.com/browse/loanDetail.action?loan_id=\")"
   ]
  },
  {
   "cell_type": "code",
   "execution_count": 68,
   "id": "bf92fd63-5e26-4713-8021-d60af40b7a53",
   "metadata": {},
   "outputs": [
    {
     "data": {
      "text/plain": [
       "array(['id', 'issue_d', 'loan_amnt', 'loan_status', 'funded_amnt', 'term', 'int_rate',\n",
       "       'installment', 'grade', 'sub_grade', 'verification_status', 'url', 'addr_state',\n",
       "       'total_pymnt'], dtype='<U19')"
      ]
     },
     "execution_count": 68,
     "metadata": {},
     "output_type": "execute_result"
    }
   ],
   "source": [
    "header_full"
   ]
  },
  {
   "cell_type": "code",
   "execution_count": 69,
   "id": "45afeaf5-af16-480c-8091-eccd7df72a6d",
   "metadata": {},
   "outputs": [
    {
     "data": {
      "text/plain": [
       "array([48010226, 57693261, 59432726, ..., 50415990, 46154151, 66055249])"
      ]
     },
     "execution_count": 69,
     "metadata": {},
     "output_type": "execute_result"
    }
   ],
   "source": [
    "loan_data_number[:,0].astype(np.int32)"
   ]
  },
  {
   "cell_type": "code",
   "execution_count": 70,
   "id": "fb6f8689-6f66-477f-b6aa-44cd97aa585d",
   "metadata": {},
   "outputs": [
    {
     "data": {
      "text/plain": [
       "array([48010226, 57693261, 59432726, ..., 50415990, 46154151, 66055249])"
      ]
     },
     "execution_count": 70,
     "metadata": {},
     "output_type": "execute_result"
    }
   ],
   "source": [
    "loan_data_string[:,5].astype(np.int32)"
   ]
  },
  {
   "cell_type": "code",
   "execution_count": 71,
   "id": "e6f4bcff-d92a-4d32-9582-83444a7ecc59",
   "metadata": {},
   "outputs": [],
   "source": [
    "loan_data_string=np.delete(loan_data_string,5,axis=1)\n",
    "header_string=np.delete(header_string,5)"
   ]
  },
  {
   "cell_type": "code",
   "execution_count": 72,
   "id": "3dff973e-fdd4-4291-8c3f-42534994d639",
   "metadata": {},
   "outputs": [
    {
     "data": {
      "text/plain": [
       "array(['CA', 'NY', 'PA', ..., 'CA', 'OH', 'IL'], dtype='<U69')"
      ]
     },
     "execution_count": 72,
     "metadata": {},
     "output_type": "execute_result"
    }
   ],
   "source": [
    "loan_data_string[:,5]"
   ]
  },
  {
   "cell_type": "code",
   "execution_count": 73,
   "id": "6727f40a-ec0b-4293-a612-32aa69c169d3",
   "metadata": {},
   "outputs": [
    {
     "data": {
      "text/plain": [
       "array(['issue_date', 'loan_status', 'term', 'sub_grade', 'verification_status', 'addr_state'],\n",
       "      dtype='<U19')"
      ]
     },
     "execution_count": 73,
     "metadata": {},
     "output_type": "execute_result"
    }
   ],
   "source": [
    "header_string"
   ]
  },
  {
   "cell_type": "code",
   "execution_count": 74,
   "id": "87e95098-e04f-4494-99e3-99dc8523fe9e",
   "metadata": {},
   "outputs": [
    {
     "data": {
      "text/plain": [
       "array([48010226., 57693261., 59432726., ..., 50415990., 46154151., 66055249.])"
      ]
     },
     "execution_count": 74,
     "metadata": {},
     "output_type": "execute_result"
    }
   ],
   "source": [
    "loan_data_number[:,0]"
   ]
  },
  {
   "cell_type": "code",
   "execution_count": 75,
   "id": "87c25a92-b4e1-4a6b-ad75-8864f3c6c9b8",
   "metadata": {},
   "outputs": [
    {
     "data": {
      "text/plain": [
       "array(['id', 'loan_amnt', 'funded_amnt', 'int_rate', 'installment', 'total_pymnt'], dtype='<U19')"
      ]
     },
     "execution_count": 75,
     "metadata": {},
     "output_type": "execute_result"
    }
   ],
   "source": [
    "header_number"
   ]
  },
  {
   "cell_type": "code",
   "execution_count": 76,
   "id": "d62e1ee6-7b5f-4b18-b8a8-4d5755c76e49",
   "metadata": {},
   "outputs": [
    {
     "data": {
      "text/plain": [
       "array(['issue_date', 'loan_status', 'term', 'sub_grade', 'verification_status', 'addr_state'],\n",
       "      dtype='<U19')"
      ]
     },
     "execution_count": 76,
     "metadata": {},
     "output_type": "execute_result"
    }
   ],
   "source": [
    "header_string"
   ]
  },
  {
   "cell_type": "code",
   "execution_count": 77,
   "id": "fcc8e83d-26d8-44e3-9c9d-4e22f5a29da8",
   "metadata": {},
   "outputs": [],
   "source": [
    "header_string[5]=\"state_address\""
   ]
  },
  {
   "cell_type": "code",
   "execution_count": 78,
   "id": "47c8a8a9-cbed-4445-991c-c3c22825d3d7",
   "metadata": {},
   "outputs": [
    {
     "data": {
      "text/plain": [
       "array(['issue_date', 'loan_status', 'term', 'sub_grade', 'verification_status', 'state_address'],\n",
       "      dtype='<U19')"
      ]
     },
     "execution_count": 78,
     "metadata": {},
     "output_type": "execute_result"
    }
   ],
   "source": [
    "header_string"
   ]
  },
  {
   "cell_type": "code",
   "execution_count": 79,
   "id": "6b12384f-5e4c-468e-82c6-7aafe3441646",
   "metadata": {},
   "outputs": [
    {
     "data": {
      "text/plain": [
       "array(['', 'AK', 'AL', 'AR', 'AZ', 'CA', 'CO', 'CT', 'DC', 'DE', 'FL', 'GA', 'HI', 'IL', 'IN',\n",
       "       'KS', 'KY', 'LA', 'MA', 'MD', 'ME', 'MI', 'MN', 'MO', 'MS', 'MT', 'NC', 'ND', 'NE', 'NH',\n",
       "       'NJ', 'NM', 'NV', 'NY', 'OH', 'OK', 'OR', 'PA', 'RI', 'SC', 'SD', 'TN', 'TX', 'UT', 'VA',\n",
       "       'VT', 'WA', 'WI', 'WV', 'WY'], dtype='<U69')"
      ]
     },
     "execution_count": 79,
     "metadata": {},
     "output_type": "execute_result"
    }
   ],
   "source": [
    "np.unique(loan_data_string[:,5])"
   ]
  },
  {
   "cell_type": "code",
   "execution_count": 80,
   "id": "226114b6-661c-4136-9fc0-fc00c1e14934",
   "metadata": {},
   "outputs": [
    {
     "data": {
      "text/plain": [
       "(array(['', 'AK', 'AL', 'AR', 'AZ', 'CA', 'CO', 'CT', 'DC', 'DE', 'FL', 'GA', 'HI', 'IL', 'IN',\n",
       "        'KS', 'KY', 'LA', 'MA', 'MD', 'ME', 'MI', 'MN', 'MO', 'MS', 'MT', 'NC', 'ND', 'NE', 'NH',\n",
       "        'NJ', 'NM', 'NV', 'NY', 'OH', 'OK', 'OR', 'PA', 'RI', 'SC', 'SD', 'TN', 'TX', 'UT', 'VA',\n",
       "        'VT', 'WA', 'WI', 'WV', 'WY'], dtype='<U69'),\n",
       " array([ 500,   26,  119,   74,  220, 1336,  201,  143,   27,   27,  690,  321,   44,  389,  152,\n",
       "          84,   84,  116,  210,  222,   10,  267,  156,  160,   61,   28,  261,   16,   25,   58,\n",
       "         341,   57,  130,  777,  312,   83,  108,  320,   40,  107,   24,  143,  758,   74,  242,\n",
       "          17,  216,  148,   49,   27], dtype=int64))"
      ]
     },
     "execution_count": 80,
     "metadata": {},
     "output_type": "execute_result"
    }
   ],
   "source": [
    "np.unique(loan_data_string[:,5],return_counts=True)"
   ]
  },
  {
   "cell_type": "code",
   "execution_count": 81,
   "id": "5ab073d3-665c-4930-b3a4-50ea939d5074",
   "metadata": {},
   "outputs": [
    {
     "data": {
      "text/plain": [
       "(array(['CA', 'NY', 'TX', 'FL', '', 'IL', 'NJ', 'GA', 'PA', 'OH', 'MI', 'NC', 'VA', 'MD', 'AZ',\n",
       "        'WA', 'MA', 'CO', 'MO', 'MN', 'IN', 'WI', 'CT', 'TN', 'NV', 'AL', 'LA', 'OR', 'SC', 'KY',\n",
       "        'KS', 'OK', 'UT', 'AR', 'MS', 'NH', 'NM', 'WV', 'HI', 'RI', 'MT', 'DE', 'DC', 'WY', 'AK',\n",
       "        'NE', 'SD', 'VT', 'ND', 'ME'], dtype='<U69'),\n",
       " array([1336,  777,  758,  690,  500,  389,  341,  321,  320,  312,  267,  261,  242,  222,  220,\n",
       "         216,  210,  201,  160,  156,  152,  148,  143,  143,  130,  119,  116,  108,  107,   84,\n",
       "          84,   83,   74,   74,   61,   58,   57,   49,   44,   40,   28,   27,   27,   27,   26,\n",
       "          25,   24,   17,   16,   10], dtype=int64))"
      ]
     },
     "execution_count": 81,
     "metadata": {},
     "output_type": "execute_result"
    }
   ],
   "source": [
    "states_names,states_count=np.unique(loan_data_string[:,5],return_counts=True)\n",
    "states_count_sorted=np.argsort(-states_count)\n",
    "states_names[states_count_sorted],states_count[states_count_sorted]"
   ]
  },
  {
   "cell_type": "code",
   "execution_count": 82,
   "id": "0b0346a6-452d-4e93-bdd9-6bc0b0f0f0c7",
   "metadata": {},
   "outputs": [],
   "source": [
    "loan_data_string[:,5]=np.where((loan_data_string[:,5])=='',\n",
    "                               0,\n",
    "                               loan_data_string[:,5])\n"
   ]
  },
  {
   "cell_type": "code",
   "execution_count": 83,
   "id": "0273aa74-8c71-44d9-8792-c8b939ec55df",
   "metadata": {},
   "outputs": [],
   "source": [
    "states_west = np.array(['WA', 'OR', 'CA', 'NV', 'ID', 'MT', 'WY', 'UT', 'CO', 'AZ', 'NM', 'HI', 'AK'])\n",
    "states_south = np.array(['TX', 'OK', 'AR', 'LA', 'MS', 'AL', 'TN', 'KY', 'FL', 'GA', 'SC', 'NC', 'VA', 'WV', 'MD', 'DE', 'DC'])\n",
    "states_midwest = np.array(['ND', 'SD', 'NE', 'KS', 'MN', 'IA', 'MO', 'WI', 'IL', 'IN', 'MI', 'OH'])\n",
    "states_east = np.array(['PA', 'NY', 'NJ', 'CT', 'MA', 'VT', 'NH', 'ME', 'RI'])"
   ]
  },
  {
   "cell_type": "code",
   "execution_count": 84,
   "id": "4be83e3b-b8af-4fcb-8923-defd759a0721",
   "metadata": {},
   "outputs": [],
   "source": [
    "loan_data_string[:,5]=np.where(np.isin(loan_data_string[:,5],states_west),1,loan_data_string[:,5])\n",
    "loan_data_string[:,5]=np.where(np.isin(loan_data_string[:,5],states_south),2,loan_data_string[:,5])\n",
    "loan_data_string[:,5]=np.where(np.isin(loan_data_string[:,5],states_midwest),3,loan_data_string[:,5])\n",
    "loan_data_string[:,5]=np.where(np.isin(loan_data_string[:,5],states_east),4,loan_data_string[:,5])"
   ]
  },
  {
   "cell_type": "code",
   "execution_count": 85,
   "id": "daa2cecc-368d-4b01-adf4-28da2ca59dd8",
   "metadata": {},
   "outputs": [
    {
     "data": {
      "text/plain": [
       "array(['0', '1', '2', '3', '4'], dtype='<U69')"
      ]
     },
     "execution_count": 85,
     "metadata": {},
     "output_type": "execute_result"
    }
   ],
   "source": [
    "np.unique(loan_data_string[:,5])"
   ]
  },
  {
   "cell_type": "code",
   "execution_count": 86,
   "id": "425c86d1-0114-45b1-b97b-66954171f84c",
   "metadata": {},
   "outputs": [
    {
     "data": {
      "text/plain": [
       "array([['5', '1', '36 ', '13', '1', '1'],\n",
       "       ['0', '1', '36 ', '5', '1', '4'],\n",
       "       ['9', '1', '36 ', '10', '1', '4'],\n",
       "       ...,\n",
       "       ['6', '1', '36 ', '5', '1', '1'],\n",
       "       ['4', '1', '36 ', '17', '1', '3'],\n",
       "       ['12', '1', '36 ', '4', '0', '3']], dtype='<U69')"
      ]
     },
     "execution_count": 86,
     "metadata": {},
     "output_type": "execute_result"
    }
   ],
   "source": [
    "loan_data_string"
   ]
  },
  {
   "cell_type": "code",
   "execution_count": 87,
   "id": "13152659-dd62-45be-947c-088e805c7dbb",
   "metadata": {},
   "outputs": [
    {
     "data": {
      "text/plain": [
       "array([[ 5,  1, 36, 13,  1,  1],\n",
       "       [ 0,  1, 36,  5,  1,  4],\n",
       "       [ 9,  1, 36, 10,  1,  4],\n",
       "       ...,\n",
       "       [ 6,  1, 36,  5,  1,  1],\n",
       "       [ 4,  1, 36, 17,  1,  3],\n",
       "       [12,  1, 36,  4,  0,  3]])"
      ]
     },
     "execution_count": 87,
     "metadata": {},
     "output_type": "execute_result"
    }
   ],
   "source": [
    "loan_data_string=loan_data_string.astype(np.int32)\n",
    "loan_data_string"
   ]
  },
  {
   "cell_type": "code",
   "execution_count": 88,
   "id": "b1aad47f-a052-4cae-94f0-4e936e1decf3",
   "metadata": {},
   "outputs": [
    {
     "data": {
      "text/plain": [
       "array(['issue_date', 'loan_status', 'term', 'sub_grade', 'verification_status', 'state_address'],\n",
       "      dtype='<U19')"
      ]
     },
     "execution_count": 88,
     "metadata": {},
     "output_type": "execute_result"
    }
   ],
   "source": [
    "checkpoint_strings=checkpoint(\"chechpoint_strings\",header_string,loan_data_string)\n",
    "checkpoint_strings[\"header\"]\n"
   ]
  },
  {
   "cell_type": "code",
   "execution_count": 89,
   "id": "085859e7-2f00-4c4a-aa8a-05a749fd440d",
   "metadata": {},
   "outputs": [
    {
     "data": {
      "text/plain": [
       "array([[ 5,  1, 36, 13,  1,  1],\n",
       "       [ 0,  1, 36,  5,  1,  4],\n",
       "       [ 9,  1, 36, 10,  1,  4],\n",
       "       ...,\n",
       "       [ 6,  1, 36,  5,  1,  1],\n",
       "       [ 4,  1, 36, 17,  1,  3],\n",
       "       [12,  1, 36,  4,  0,  3]])"
      ]
     },
     "execution_count": 89,
     "metadata": {},
     "output_type": "execute_result"
    }
   ],
   "source": [
    "checkpoint_strings[\"data\"]"
   ]
  },
  {
   "cell_type": "code",
   "execution_count": 90,
   "id": "385ebf5a-586a-44a9-b374-3f912c60639d",
   "metadata": {},
   "outputs": [
    {
     "data": {
      "text/plain": [
       "True"
      ]
     },
     "execution_count": 90,
     "metadata": {},
     "output_type": "execute_result"
    }
   ],
   "source": [
    "np.array_equal(checkpoint_strings[\"data\"],loan_data_string)"
   ]
  },
  {
   "cell_type": "code",
   "execution_count": 91,
   "id": "3e21a429-2012-4376-b93d-5f6acc548ee5",
   "metadata": {},
   "outputs": [
    {
     "name": "stdout",
     "output_type": "stream",
     "text": [
      "now we gonna convert numeric to non numeric to clean and prepocess the data\n"
     ]
    }
   ],
   "source": [
    "print('now we gonna convert numeric to non numeric to clean and prepocess the data')"
   ]
  },
  {
   "cell_type": "code",
   "execution_count": 92,
   "id": "ae92014a-df05-4247-a70c-25b90c7e8856",
   "metadata": {},
   "outputs": [
    {
     "data": {
      "text/plain": [
       "array([[48010226.  ,    35000.  ,    35000.  ,       13.33,     1184.86,     9452.96],\n",
       "       [57693261.  ,    30000.  ,    30000.  , 68616520.  ,      938.57,     4679.7 ],\n",
       "       [59432726.  ,    15000.  ,    15000.  , 68616520.  ,      494.86,     1969.83],\n",
       "       ...,\n",
       "       [50415990.  ,    10000.  ,    10000.  , 68616520.  , 68616520.  ,     2185.64],\n",
       "       [46154151.  , 68616520.  ,    10000.  ,       16.55,      354.3 ,     3199.4 ],\n",
       "       [66055249.  ,    10000.  ,    10000.  , 68616520.  ,      309.97,      301.9 ]])"
      ]
     },
     "execution_count": 92,
     "metadata": {},
     "output_type": "execute_result"
    }
   ],
   "source": [
    "loan_data_number"
   ]
  },
  {
   "cell_type": "code",
   "execution_count": 93,
   "id": "d1ed06c3-9614-47ca-ad99-4b53a14a75a4",
   "metadata": {},
   "outputs": [
    {
     "data": {
      "text/plain": [
       "0"
      ]
     },
     "execution_count": 93,
     "metadata": {},
     "output_type": "execute_result"
    }
   ],
   "source": [
    "np.isnan(loan_data_number).sum()"
   ]
  },
  {
   "cell_type": "code",
   "execution_count": 94,
   "id": "3e83003f-a59b-4d60-ae0f-2714f0cafd72",
   "metadata": {},
   "outputs": [
    {
     "data": {
      "text/plain": [
       "array(['id', 'loan_amnt', 'funded_amnt', 'int_rate', 'installment', 'total_pymnt'], dtype='<U19')"
      ]
     },
     "execution_count": 94,
     "metadata": {},
     "output_type": "execute_result"
    }
   ],
   "source": [
    "header_number"
   ]
  },
  {
   "cell_type": "code",
   "execution_count": 95,
   "id": "b2d96677-5a3b-44e7-bee0-6b7de803ce8d",
   "metadata": {},
   "outputs": [
    {
     "data": {
      "text/plain": [
       "68616520.0"
      ]
     },
     "execution_count": 95,
     "metadata": {},
     "output_type": "execute_result"
    }
   ],
   "source": [
    "temporary_fill"
   ]
  },
  {
   "cell_type": "code",
   "execution_count": 96,
   "id": "3529fd90-24c7-4915-9c2b-5b7487ffc353",
   "metadata": {},
   "outputs": [
    {
     "data": {
      "text/plain": [
       "array([False, False, False, ..., False, False, False])"
      ]
     },
     "execution_count": 96,
     "metadata": {},
     "output_type": "execute_result"
    }
   ],
   "source": [
    "np.isin(loan_data_number[:,0],temporary_fill)"
   ]
  },
  {
   "cell_type": "code",
   "execution_count": 97,
   "id": "c02a9d7e-0718-41b8-9d86-b25d78978ee8",
   "metadata": {},
   "outputs": [
    {
     "data": {
      "text/plain": [
       "0"
      ]
     },
     "execution_count": 97,
     "metadata": {},
     "output_type": "execute_result"
    }
   ],
   "source": [
    "np.isin(loan_data_number[:,0],temporary_fill).sum()"
   ]
  },
  {
   "cell_type": "code",
   "execution_count": 98,
   "id": "e10ec56c-b22b-4b66-9d84-66eae4d0f15f",
   "metadata": {},
   "outputs": [
    {
     "data": {
      "text/plain": [
       "array(['id', 'loan_amnt', 'funded_amnt', 'int_rate', 'installment', 'total_pymnt'], dtype='<U19')"
      ]
     },
     "execution_count": 98,
     "metadata": {},
     "output_type": "execute_result"
    }
   ],
   "source": [
    " header_number"
   ]
  },
  {
   "cell_type": "code",
   "execution_count": 99,
   "id": "90b36c22-7272-4db4-ac71-8f7b5febc5a5",
   "metadata": {},
   "outputs": [
    {
     "data": {
      "text/plain": [
       "array([[  373332.  ,         nan,     1000.  ,         nan,     1000.  ,         nan,        6.  ,\n",
       "              31.42,         nan,         nan,         nan,         nan,         nan,        0.  ],\n",
       "       [54015809.19,         nan,    15273.46,         nan,    15311.04,         nan,       16.62,\n",
       "             440.92,         nan,         nan,         nan,         nan,         nan,     3143.85],\n",
       "       [68616519.  ,         nan,    35000.  ,         nan,    35000.  ,         nan,       28.99,\n",
       "            1372.97,         nan,         nan,         nan,         nan,         nan,    41913.62]])"
      ]
     },
     "execution_count": 99,
     "metadata": {},
     "output_type": "execute_result"
    }
   ],
   "source": [
    "temporary_stats"
   ]
  },
  {
   "cell_type": "code",
   "execution_count": 100,
   "id": "e39527d7-1f3e-4a54-9787-d46f3d4e6ad5",
   "metadata": {},
   "outputs": [
    {
     "data": {
      "text/plain": [
       "array([[  373332.  ,     1000.  ,     1000.  ,        6.  ,       31.42,        0.  ],\n",
       "       [54015809.19,    15273.46,    15311.04,       16.62,      440.92,     3143.85],\n",
       "       [68616519.  ,    35000.  ,    35000.  ,       28.99,     1372.97,    41913.62]])"
      ]
     },
     "execution_count": 100,
     "metadata": {},
     "output_type": "execute_result"
    }
   ],
   "source": [
    "temporary_stats[:,columns_number]"
   ]
  },
  {
   "cell_type": "code",
   "execution_count": 101,
   "id": "216c4c14-d6b3-4c6e-954c-ad14d1d06944",
   "metadata": {},
   "outputs": [
    {
     "data": {
      "text/plain": [
       "array([35000., 30000., 15000., ..., 10000., 10000., 10000.])"
      ]
     },
     "execution_count": 101,
     "metadata": {},
     "output_type": "execute_result"
    }
   ],
   "source": [
    "loan_data_number[:,2]"
   ]
  },
  {
   "cell_type": "code",
   "execution_count": 102,
   "id": "b804d0cb-b32e-48b0-be55-ca85e4c61dbe",
   "metadata": {},
   "outputs": [
    {
     "data": {
      "text/plain": [
       "array([35000., 30000., 15000., ..., 10000., 10000., 10000.])"
      ]
     },
     "execution_count": 102,
     "metadata": {},
     "output_type": "execute_result"
    }
   ],
   "source": [
    "loan_data_number[:,2]=np.where(loan_data_number[:,2]==temporary_fill,\n",
    "                               temporary_stats[0,columns_number[2]],\n",
    "                               loan_data_number[:,2])\n",
    "loan_data_number[:,2]"
   ]
  },
  {
   "cell_type": "code",
   "execution_count": 103,
   "id": "d50910ba-c195-461b-9ed5-10ff8a6604d7",
   "metadata": {},
   "outputs": [
    {
     "data": {
      "text/plain": [
       "6.0"
      ]
     },
     "execution_count": 103,
     "metadata": {},
     "output_type": "execute_result"
    }
   ],
   "source": [
    "temporary_stats[0,columns_number[3]]"
   ]
  },
  {
   "cell_type": "code",
   "execution_count": 104,
   "id": "1d2111b0-4df6-45a3-9032-8a6752d60200",
   "metadata": {},
   "outputs": [
    {
     "data": {
      "text/plain": [
       "array(['id', 'loan_amnt', 'funded_amnt', 'int_rate', 'installment', 'total_pymnt'], dtype='<U19')"
      ]
     },
     "execution_count": 104,
     "metadata": {},
     "output_type": "execute_result"
    }
   ],
   "source": [
    "header_number"
   ]
  },
  {
   "cell_type": "code",
   "execution_count": 105,
   "id": "b0016396-76e5-4e34-9ce0-22781ab54467",
   "metadata": {
    "scrolled": true
   },
   "outputs": [
    {
     "data": {
      "text/plain": [
       "array([[48010226.  ,    35000.  ,    35000.  ,       13.33,     1184.86,     9452.96],\n",
       "       [57693261.  ,    30000.  ,    30000.  ,       28.99,      938.57,     4679.7 ],\n",
       "       [59432726.  ,    15000.  ,    15000.  ,       28.99,      494.86,     1969.83],\n",
       "       ...,\n",
       "       [50415990.  ,    10000.  ,    10000.  ,       28.99,     1372.97,     2185.64],\n",
       "       [46154151.  ,    35000.  ,    10000.  ,       16.55,      354.3 ,     3199.4 ],\n",
       "       [66055249.  ,    10000.  ,    10000.  ,       28.99,      309.97,      301.9 ]])"
      ]
     },
     "execution_count": 105,
     "metadata": {},
     "output_type": "execute_result"
    }
   ],
   "source": [
    "for i in [1,3,4,5]:\n",
    "    loan_data_number[:,i]=np.where(loan_data_number[:,i]==temporary_fill,\n",
    "                               temporary_stats[2,columns_number[i]],\n",
    "                               loan_data_number[:,i])\n",
    "    \n",
    "loan_data_number"
   ]
  },
  {
   "cell_type": "code",
   "execution_count": 106,
   "id": "c9949515-b88b-4550-b34b-a66c48aa8792",
   "metadata": {},
   "outputs": [
    {
     "data": {
      "text/plain": [
       "array([1.13, 1.12, 1.08, 1.11, 1.1 , 1.12, 1.09, 1.13, 1.13, 1.1 , 1.06, 1.09])"
      ]
     },
     "execution_count": 106,
     "metadata": {},
     "output_type": "execute_result"
    }
   ],
   "source": [
    "eur_usd=np.genfromtxt(\"C:/Users/Sai Sailesh/Downloads/EUR-USD.csv\",delimiter=',',skip_header=1,usecols=3)\n",
    "eur_usd"
   ]
  },
  {
   "cell_type": "code",
   "execution_count": 107,
   "id": "5f318111-94e4-46c2-8819-66e105d6ff80",
   "metadata": {},
   "outputs": [
    {
     "data": {
      "text/plain": [
       "array([ 0,  1,  2,  3,  4,  5,  6,  7,  8,  9, 10, 11, 12])"
      ]
     },
     "execution_count": 107,
     "metadata": {},
     "output_type": "execute_result"
    }
   ],
   "source": [
    "np.unique(loan_data_string[:,0])"
   ]
  },
  {
   "cell_type": "code",
   "execution_count": 108,
   "id": "c01f24d0-3f9b-4ccb-abf0-37206eaf158d",
   "metadata": {},
   "outputs": [
    {
     "data": {
      "text/plain": [
       "array([1.06, 1.08, 1.09, 1.09, 1.1 , 1.1 , 1.11, 1.11, 1.12, 1.12, 1.13, 1.13, 1.13])"
      ]
     },
     "execution_count": 108,
     "metadata": {},
     "output_type": "execute_result"
    }
   ],
   "source": [
    "exchange_rate=loan_data_string[:,0]\n",
    "for i in range(1,13):\n",
    "    exchange_rate=np.where(exchange_rate==i,\n",
    "                           eur_usd[i-1],\n",
    "                           exchange_rate)\n",
    "exchange_rate=np.where(exchange_rate==0,\n",
    "                       np.mean(eur_usd),\n",
    "                       exchange_rate)\n",
    "                           \n",
    "\n",
    "np.unique(exchange_rate)"
   ]
  },
  {
   "cell_type": "code",
   "execution_count": 109,
   "id": "ece835ea-8336-4469-bb27-0114dac35742",
   "metadata": {},
   "outputs": [
    {
     "data": {
      "text/plain": [
       "(10000,)"
      ]
     },
     "execution_count": 109,
     "metadata": {},
     "output_type": "execute_result"
    }
   ],
   "source": [
    "exchange_rate.shape"
   ]
  },
  {
   "cell_type": "code",
   "execution_count": 110,
   "id": "6f0209bd-da3b-44d1-be1b-647690e188aa",
   "metadata": {},
   "outputs": [
    {
     "data": {
      "text/plain": [
       "(10000, 6)"
      ]
     },
     "execution_count": 110,
     "metadata": {},
     "output_type": "execute_result"
    }
   ],
   "source": [
    "loan_data_number.shape"
   ]
  },
  {
   "cell_type": "code",
   "execution_count": 111,
   "id": "40a55b60-451a-41d6-880e-3b4d556f9285",
   "metadata": {},
   "outputs": [
    {
     "data": {
      "text/plain": [
       "array([[1.1 ],\n",
       "       [1.11],\n",
       "       [1.13],\n",
       "       ...,\n",
       "       [1.12],\n",
       "       [1.11],\n",
       "       [1.09]])"
      ]
     },
     "execution_count": 111,
     "metadata": {},
     "output_type": "execute_result"
    }
   ],
   "source": [
    "exchange_rate=np.reshape(exchange_rate,(10000,1))\n",
    "exchange_rate"
   ]
  },
  {
   "cell_type": "code",
   "execution_count": 112,
   "id": "e333e826-541e-4a32-9f99-b357b20b79c1",
   "metadata": {},
   "outputs": [
    {
     "data": {
      "text/plain": [
       "array([[48010226.  ,    35000.  ,    35000.  , ...,     1184.86,     9452.96,        1.1 ],\n",
       "       [57693261.  ,    30000.  ,    30000.  , ...,      938.57,     4679.7 ,        1.11],\n",
       "       [59432726.  ,    15000.  ,    15000.  , ...,      494.86,     1969.83,        1.13],\n",
       "       ...,\n",
       "       [50415990.  ,    10000.  ,    10000.  , ...,     1372.97,     2185.64,        1.12],\n",
       "       [46154151.  ,    35000.  ,    10000.  , ...,      354.3 ,     3199.4 ,        1.11],\n",
       "       [66055249.  ,    10000.  ,    10000.  , ...,      309.97,      301.9 ,        1.09]])"
      ]
     },
     "execution_count": 112,
     "metadata": {},
     "output_type": "execute_result"
    }
   ],
   "source": [
    "loan_data_number=np.hstack((loan_data_number,exchange_rate))\n",
    "loan_data_number"
   ]
  },
  {
   "cell_type": "code",
   "execution_count": 113,
   "id": "c9b4b6ba-4bc0-4977-ab55-387946d4cf6f",
   "metadata": {},
   "outputs": [
    {
     "data": {
      "text/plain": [
       "array(['id', 'loan_amnt', 'funded_amnt', 'int_rate', 'installment', 'total_pymnt', 'exchange_rate'],\n",
       "      dtype='<U19')"
      ]
     },
     "execution_count": 113,
     "metadata": {},
     "output_type": "execute_result"
    }
   ],
   "source": [
    "header_number=np.concatenate((header_number,np.array(['exchange_rate'])))\n",
    "header_number"
   ]
  },
  {
   "cell_type": "code",
   "execution_count": 114,
   "id": "0f6f51e4-bfbe-402b-b023-2f57d3159458",
   "metadata": {},
   "outputs": [
    {
     "data": {
      "text/plain": [
       "array(['id', 'loan_amnt', 'funded_amnt', 'int_rate', 'installment', 'total_pymnt', 'exchange_rate'],\n",
       "      dtype='<U19')"
      ]
     },
     "execution_count": 114,
     "metadata": {},
     "output_type": "execute_result"
    }
   ],
   "source": [
    "header_number "
   ]
  },
  {
   "cell_type": "code",
   "execution_count": 115,
   "id": "4261cb74-58e3-4bbe-b818-1d35ad6f046f",
   "metadata": {},
   "outputs": [],
   "source": [
    "columns_dollar=np.array([1,2,4,5])"
   ]
  },
  {
   "cell_type": "code",
   "execution_count": 116,
   "id": "c7cf60ae-b36a-4325-8957-0d1715296d05",
   "metadata": {},
   "outputs": [
    {
     "data": {
      "text/plain": [
       "array([[[35000.  , 35000.  ,  1184.86,  9452.96]],\n",
       "\n",
       "       [[30000.  , 30000.  ,   938.57,  4679.7 ]],\n",
       "\n",
       "       [[15000.  , 15000.  ,   494.86,  1969.83]],\n",
       "\n",
       "       ...,\n",
       "\n",
       "       [[10000.  , 10000.  ,  1372.97,  2185.64]],\n",
       "\n",
       "       [[35000.  , 10000.  ,   354.3 ,  3199.4 ]],\n",
       "\n",
       "       [[10000.  , 10000.  ,   309.97,   301.9 ]]])"
      ]
     },
     "execution_count": 116,
     "metadata": {},
     "output_type": "execute_result"
    }
   ],
   "source": [
    "loan_data_number[:,[columns_dollar]]"
   ]
  },
  {
   "cell_type": "code",
   "execution_count": 117,
   "id": "3fd31e73-a932-4950-96ae-8d17eb67895c",
   "metadata": {},
   "outputs": [
    {
     "data": {
      "text/plain": [
       "array([1.1 , 1.11, 1.13, ..., 1.12, 1.11, 1.09])"
      ]
     },
     "execution_count": 117,
     "metadata": {},
     "output_type": "execute_result"
    }
   ],
   "source": [
    "loan_data_number[:,6]"
   ]
  },
  {
   "cell_type": "code",
   "execution_count": 118,
   "id": "397cbcb6-7c4e-4b09-87de-56c95eed2a74",
   "metadata": {},
   "outputs": [
    {
     "data": {
      "text/plain": [
       "array([[48010226.  ,    35000.  ,    35000.  , ...,    31933.3 ,     1081.04,     8624.69],\n",
       "       [57693261.  ,    30000.  ,    30000.  , ...,    27132.46,      848.86,     4232.39],\n",
       "       [59432726.  ,    15000.  ,    15000.  , ...,    13326.3 ,      439.64,     1750.04],\n",
       "       ...,\n",
       "       [50415990.  ,    10000.  ,    10000.  , ...,     8910.3 ,     1223.36,     1947.47],\n",
       "       [46154151.  ,    35000.  ,    10000.  , ...,     8997.4 ,      318.78,     2878.63],\n",
       "       [66055249.  ,    10000.  ,    10000.  , ...,     9145.8 ,      283.49,      276.11]])"
      ]
     },
     "execution_count": 118,
     "metadata": {},
     "output_type": "execute_result"
    }
   ],
   "source": [
    "for i in columns_dollar:\n",
    "    loan_data_number=np.hstack((loan_data_number,np.reshape(loan_data_number[:,i] / loan_data_number[:,6],(10000,1))))\n",
    "loan_data_number"
   ]
  },
  {
   "cell_type": "code",
   "execution_count": 119,
   "id": "9700f3e3-d927-4284-8838-1ff3821711e1",
   "metadata": {},
   "outputs": [
    {
     "data": {
      "text/plain": [
       "(10000, 11)"
      ]
     },
     "execution_count": 119,
     "metadata": {},
     "output_type": "execute_result"
    }
   ],
   "source": [
    "loan_data_number.shape"
   ]
  },
  {
   "cell_type": "code",
   "execution_count": 120,
   "id": "9215c878-f564-4a37-b8b5-1d604953f17c",
   "metadata": {},
   "outputs": [
    {
     "data": {
      "text/plain": [
       "array([[48010226.  ,    35000.  ,    35000.  , ...,    31933.3 ,     1081.04,     8624.69],\n",
       "       [57693261.  ,    30000.  ,    30000.  , ...,    27132.46,      848.86,     4232.39],\n",
       "       [59432726.  ,    15000.  ,    15000.  , ...,    13326.3 ,      439.64,     1750.04],\n",
       "       ...,\n",
       "       [50415990.  ,    10000.  ,    10000.  , ...,     8910.3 ,     1223.36,     1947.47],\n",
       "       [46154151.  ,    35000.  ,    10000.  , ...,     8997.4 ,      318.78,     2878.63],\n",
       "       [66055249.  ,    10000.  ,    10000.  , ...,     9145.8 ,      283.49,      276.11]])"
      ]
     },
     "execution_count": 120,
     "metadata": {},
     "output_type": "execute_result"
    }
   ],
   "source": [
    "loan_data_number"
   ]
  },
  {
   "cell_type": "code",
   "execution_count": 121,
   "id": "ec78749c-87f2-468a-a491-68931b8b5eed",
   "metadata": {},
   "outputs": [
    {
     "data": {
      "text/plain": [
       "array(['loan_amnt_EUR', 'funded_amnt_EUR', 'installment_EUR', 'total_pymnt_EUR'], dtype='<U15')"
      ]
     },
     "execution_count": 121,
     "metadata": {},
     "output_type": "execute_result"
    }
   ],
   "source": [
    "header_additional=np.array([column_name+'_EUR' for column_name in header_number[columns_dollar]])\n",
    "header_additional"
   ]
  },
  {
   "cell_type": "code",
   "execution_count": 122,
   "id": "ad4d073b-008a-4c1e-bd68-8a27b3348bcd",
   "metadata": {},
   "outputs": [
    {
     "data": {
      "text/plain": [
       "array(['id', 'loan_amnt', 'funded_amnt', 'int_rate', 'installment', 'total_pymnt', 'exchange_rate',\n",
       "       'loan_amnt_EUR', 'funded_amnt_EUR', 'installment_EUR', 'total_pymnt_EUR'], dtype='<U19')"
      ]
     },
     "execution_count": 122,
     "metadata": {},
     "output_type": "execute_result"
    }
   ],
   "source": [
    "header_number=np.concatenate((header_number,header_additional))\n",
    "header_number"
   ]
  },
  {
   "cell_type": "code",
   "execution_count": 123,
   "id": "ad07cac3-618c-4f04-a134-deae09f27917",
   "metadata": {},
   "outputs": [
    {
     "data": {
      "text/plain": [
       "array(['id', 'loan_amnt_USD', 'funded_amnt_USD', 'int_rate', 'installment_USD', 'total_pymnt_USD',\n",
       "       'exchange_rate', 'loan_amnt_EUR', 'funded_amnt_EUR', 'installment_EUR', 'total_pymnt_EUR'],\n",
       "      dtype='<U19')"
      ]
     },
     "execution_count": 123,
     "metadata": {},
     "output_type": "execute_result"
    }
   ],
   "source": [
    "header_number[columns_dollar]=np.array([column_name+'_USD' for column_name in header_number[columns_dollar]])\n",
    "header_number"
   ]
  },
  {
   "cell_type": "code",
   "execution_count": 124,
   "id": "6a9bb63e-01b7-40e6-bf3d-813cb0400f27",
   "metadata": {},
   "outputs": [],
   "source": [
    "columns_index_order=[0,1,7,2,8,3,4,9,5,10,6]"
   ]
  },
  {
   "cell_type": "code",
   "execution_count": 125,
   "id": "83f9c5f7-1f21-4309-8f9c-8859e88b1201",
   "metadata": {},
   "outputs": [
    {
     "data": {
      "text/plain": [
       "array(['id', 'loan_amnt_USD', 'loan_amnt_EUR', 'funded_amnt_USD', 'funded_amnt_EUR', 'int_rate',\n",
       "       'installment_USD', 'installment_EUR', 'total_pymnt_USD', 'total_pymnt_EUR', 'exchange_rate'],\n",
       "      dtype='<U19')"
      ]
     },
     "execution_count": 125,
     "metadata": {},
     "output_type": "execute_result"
    }
   ],
   "source": [
    "header_number=header_number[columns_index_order]\n",
    "header_number"
   ]
  },
  {
   "cell_type": "code",
   "execution_count": 126,
   "id": "065f1b80-bf8d-4a4a-ab0b-78d962184586",
   "metadata": {},
   "outputs": [
    {
     "data": {
      "text/plain": [
       "array([[48010226.  ,    35000.  ,    35000.  , ...,    31933.3 ,     1081.04,     8624.69],\n",
       "       [57693261.  ,    30000.  ,    30000.  , ...,    27132.46,      848.86,     4232.39],\n",
       "       [59432726.  ,    15000.  ,    15000.  , ...,    13326.3 ,      439.64,     1750.04],\n",
       "       ...,\n",
       "       [50415990.  ,    10000.  ,    10000.  , ...,     8910.3 ,     1223.36,     1947.47],\n",
       "       [46154151.  ,    35000.  ,    10000.  , ...,     8997.4 ,      318.78,     2878.63],\n",
       "       [66055249.  ,    10000.  ,    10000.  , ...,     9145.8 ,      283.49,      276.11]])"
      ]
     },
     "execution_count": 126,
     "metadata": {},
     "output_type": "execute_result"
    }
   ],
   "source": [
    "loan_data_number"
   ]
  },
  {
   "cell_type": "code",
   "execution_count": 127,
   "id": "dcfd9633-538f-4f95-822b-7fa4a1b2bd4e",
   "metadata": {},
   "outputs": [
    {
     "data": {
      "text/plain": [
       "array([[48010226.  ,    35000.  ,    35000.  , ...,    31933.3 ,     1081.04,     8624.69],\n",
       "       [57693261.  ,    30000.  ,    30000.  , ...,    27132.46,      848.86,     4232.39],\n",
       "       [59432726.  ,    15000.  ,    15000.  , ...,    13326.3 ,      439.64,     1750.04],\n",
       "       ...,\n",
       "       [50415990.  ,    10000.  ,    10000.  , ...,     8910.3 ,     1223.36,     1947.47],\n",
       "       [46154151.  ,    35000.  ,    10000.  , ...,     8997.4 ,      318.78,     2878.63],\n",
       "       [66055249.  ,    10000.  ,    10000.  , ...,     9145.8 ,      283.49,      276.11]])"
      ]
     },
     "execution_count": 127,
     "metadata": {},
     "output_type": "execute_result"
    }
   ],
   "source": [
    "loan_data_nummber=loan_data_number[columns_index_order]\n",
    "loan_data_number"
   ]
  },
  {
   "cell_type": "code",
   "execution_count": 128,
   "id": "b7023586-3b16-4b3d-b0da-1179fd0f4305",
   "metadata": {},
   "outputs": [
    {
     "data": {
      "text/plain": [
       "array(['id', 'loan_amnt_USD', 'loan_amnt_EUR', 'funded_amnt_USD', 'funded_amnt_EUR', 'int_rate',\n",
       "       'installment_USD', 'installment_EUR', 'total_pymnt_USD', 'total_pymnt_EUR', 'exchange_rate'],\n",
       "      dtype='<U19')"
      ]
     },
     "execution_count": 128,
     "metadata": {},
     "output_type": "execute_result"
    }
   ],
   "source": [
    "header_number"
   ]
  },
  {
   "cell_type": "code",
   "execution_count": 129,
   "id": "bd3d7f16-e37c-4de2-a3c8-e72ed1cf4081",
   "metadata": {},
   "outputs": [
    {
     "data": {
      "text/plain": [
       "array([9452.96, 4679.7 , 1969.83, ..., 2185.64, 3199.4 ,  301.9 ])"
      ]
     },
     "execution_count": 129,
     "metadata": {},
     "output_type": "execute_result"
    }
   ],
   "source": [
    "loan_data_number[:,5]"
   ]
  },
  {
   "cell_type": "code",
   "execution_count": 130,
   "id": "08f7f331-a4b9-4f8d-a6c5-bf3b8f6569f2",
   "metadata": {},
   "outputs": [],
   "source": [
    "loan_data_number[:,5]=loan_data_number[:,5]/100"
   ]
  },
  {
   "cell_type": "code",
   "execution_count": 131,
   "id": "afbfdc1e-7076-415f-8b79-34934e54ae41",
   "metadata": {},
   "outputs": [
    {
     "data": {
      "text/plain": [
       "array([94.53, 46.8 , 19.7 , ..., 21.86, 31.99,  3.02])"
      ]
     },
     "execution_count": 131,
     "metadata": {},
     "output_type": "execute_result"
    }
   ],
   "source": [
    "loan_data_number[:,5]"
   ]
  },
  {
   "cell_type": "code",
   "execution_count": 132,
   "id": "410dedf3-3cea-4412-b9ea-7422f9767593",
   "metadata": {},
   "outputs": [],
   "source": [
    "checkpoint_number=checkpoint(\"Checkpoint-Numeric\",header_number,loan_data_number)"
   ]
  },
  {
   "cell_type": "code",
   "execution_count": 133,
   "id": "11c878c3-25cf-45b3-a79b-02a544f6043b",
   "metadata": {},
   "outputs": [
    {
     "data": {
      "text/plain": [
       "(array(['id', 'loan_amnt_USD', 'loan_amnt_EUR', 'funded_amnt_USD', 'funded_amnt_EUR', 'int_rate',\n",
       "        'installment_USD', 'installment_EUR', 'total_pymnt_USD', 'total_pymnt_EUR', 'exchange_rate'],\n",
       "       dtype='<U19'),\n",
       " array([[48010226.  ,    35000.  ,    35000.  , ...,    31933.3 ,     1081.04,     8624.69],\n",
       "        [57693261.  ,    30000.  ,    30000.  , ...,    27132.46,      848.86,     4232.39],\n",
       "        [59432726.  ,    15000.  ,    15000.  , ...,    13326.3 ,      439.64,     1750.04],\n",
       "        ...,\n",
       "        [50415990.  ,    10000.  ,    10000.  , ...,     8910.3 ,     1223.36,     1947.47],\n",
       "        [46154151.  ,    35000.  ,    10000.  , ...,     8997.4 ,      318.78,     2878.63],\n",
       "        [66055249.  ,    10000.  ,    10000.  , ...,     9145.8 ,      283.49,      276.11]]))"
      ]
     },
     "execution_count": 133,
     "metadata": {},
     "output_type": "execute_result"
    }
   ],
   "source": [
    "checkpoint_number['header'],checkpoint_number['data']"
   ]
  },
  {
   "cell_type": "code",
   "execution_count": 134,
   "id": "3a1dfe5d-eb4e-4c1b-9958-7ff5ff9570c2",
   "metadata": {},
   "outputs": [
    {
     "data": {
      "text/plain": [
       "(10000, 6)"
      ]
     },
     "execution_count": 134,
     "metadata": {},
     "output_type": "execute_result"
    }
   ],
   "source": [
    "checkpoint_strings['data'].shape"
   ]
  },
  {
   "cell_type": "code",
   "execution_count": 135,
   "id": "f49b7660-ab58-49e6-9b10-2947a29f0242",
   "metadata": {},
   "outputs": [
    {
     "data": {
      "text/plain": [
       "(10000, 11)"
      ]
     },
     "execution_count": 135,
     "metadata": {},
     "output_type": "execute_result"
    }
   ],
   "source": [
    "checkpoint_number['data'].shape"
   ]
  },
  {
   "cell_type": "code",
   "execution_count": 136,
   "id": "7761b744-5598-4f52-ad2a-850637ae34d9",
   "metadata": {},
   "outputs": [
    {
     "data": {
      "text/plain": [
       "array([[48010226.,    35000.,    35000., ...,       13.,        1.,        1.],\n",
       "       [57693261.,    30000.,    30000., ...,        5.,        1.,        4.],\n",
       "       [59432726.,    15000.,    15000., ...,       10.,        1.,        4.],\n",
       "       ...,\n",
       "       [50415990.,    10000.,    10000., ...,        5.,        1.,        1.],\n",
       "       [46154151.,    35000.,    10000., ...,       17.,        1.,        3.],\n",
       "       [66055249.,    10000.,    10000., ...,        4.,        0.,        3.]])"
      ]
     },
     "execution_count": 136,
     "metadata": {},
     "output_type": "execute_result"
    }
   ],
   "source": [
    "loan_data=np.hstack((checkpoint_number['data'],checkpoint_strings['data']))\n",
    "loan_data"
   ]
  },
  {
   "cell_type": "code",
   "execution_count": 137,
   "id": "4d542859-f9ca-4087-a03c-b39aa6240906",
   "metadata": {},
   "outputs": [
    {
     "data": {
      "text/plain": [
       "0"
      ]
     },
     "execution_count": 137,
     "metadata": {},
     "output_type": "execute_result"
    }
   ],
   "source": [
    "np.isnan(loan_data).sum()"
   ]
  },
  {
   "cell_type": "code",
   "execution_count": 138,
   "id": "0f0919f4-e268-4eaa-a005-7c35c3d6419f",
   "metadata": {},
   "outputs": [
    {
     "data": {
      "text/plain": [
       "array(['issue_date', 'loan_status', 'term', 'sub_grade', 'verification_status', 'state_address',\n",
       "       'id', 'loan_amnt_USD', 'loan_amnt_EUR', 'funded_amnt_USD', 'funded_amnt_EUR', 'int_rate',\n",
       "       'installment_USD', 'installment_EUR', 'total_pymnt_USD', 'total_pymnt_EUR', 'exchange_rate'],\n",
       "      dtype='<U19')"
      ]
     },
     "execution_count": 138,
     "metadata": {},
     "output_type": "execute_result"
    }
   ],
   "source": [
    "header_full=np.concatenate((checkpoint_strings['header'],checkpoint_number['header']))\n",
    "header_full"
   ]
  },
  {
   "cell_type": "code",
   "execution_count": 139,
   "id": "42bf2325-669d-4d96-aceb-5d9bdc0a4152",
   "metadata": {},
   "outputs": [
    {
     "data": {
      "text/plain": [
       "array([48010226., 57693261., 59432726., ..., 50415990., 46154151., 66055249.])"
      ]
     },
     "execution_count": 139,
     "metadata": {},
     "output_type": "execute_result"
    }
   ],
   "source": [
    "loan_data[:,0]"
   ]
  },
  {
   "cell_type": "code",
   "execution_count": 140,
   "id": "d000212a-e086-445e-9fe3-78fb2902177e",
   "metadata": {},
   "outputs": [
    {
     "data": {
      "text/plain": [
       "array([2086, 4812, 2353, ..., 4935, 9388, 8415], dtype=int64)"
      ]
     },
     "execution_count": 140,
     "metadata": {},
     "output_type": "execute_result"
    }
   ],
   "source": [
    "np.argsort(loan_data[:,0])"
   ]
  },
  {
   "cell_type": "code",
   "execution_count": 141,
   "id": "e517863c-8cbf-44bc-9b63-f2022c51dd46",
   "metadata": {},
   "outputs": [],
   "source": [
    "loan_data=loan_data[np.argsort(loan_data[:,0])]"
   ]
  },
  {
   "cell_type": "code",
   "execution_count": 142,
   "id": "5f03c431-6df9-42a8-824d-c2d3bdfecf71",
   "metadata": {},
   "outputs": [
    {
     "data": {
      "text/plain": [
       "array([[  373332.,     9950.,     1000., ...,       21.,        0.,        1.],\n",
       "       [  575239.,    12000.,    12000., ...,       25.,        1.,        2.],\n",
       "       [  707689.,    10000.,    10000., ...,       13.,        1.,        0.],\n",
       "       ...,\n",
       "       [68614880.,     5600.,     5600., ...,        8.,        1.,        1.],\n",
       "       [68615915.,     4000.,     4000., ...,       10.,        1.,        2.],\n",
       "       [68616519.,    21600.,    21600., ...,        3.,        0.,        2.]])"
      ]
     },
     "execution_count": 142,
     "metadata": {},
     "output_type": "execute_result"
    }
   ],
   "source": [
    "loan_data"
   ]
  },
  {
   "cell_type": "code",
   "execution_count": 143,
   "id": "972d6bbf-09a6-4e09-8c2c-27ca0db5a169",
   "metadata": {},
   "outputs": [
    {
     "data": {
      "text/plain": [
       "array([   0,    1,    2, ..., 9997, 9998, 9999], dtype=int64)"
      ]
     },
     "execution_count": 143,
     "metadata": {},
     "output_type": "execute_result"
    }
   ],
   "source": [
    "np.argsort(loan_data[:,0])"
   ]
  },
  {
   "cell_type": "code",
   "execution_count": 144,
   "id": "24fcd8e0-2488-448d-a7ba-cebbacdc85ef",
   "metadata": {},
   "outputs": [
    {
     "data": {
      "text/plain": [
       "array([['issue_date', 'loan_status', 'term', ..., 'total_pymnt_USD', 'total_pymnt_EUR',\n",
       "        'exchange_rate'],\n",
       "       ['373332.0', '9950.0', '1000.0', ..., '21.0', '0.0', '1.0'],\n",
       "       ['575239.0', '12000.0', '12000.0', ..., '25.0', '1.0', '2.0'],\n",
       "       ...,\n",
       "       ['68614880.0', '5600.0', '5600.0', ..., '8.0', '1.0', '1.0'],\n",
       "       ['68615915.0', '4000.0', '4000.0', ..., '10.0', '1.0', '2.0'],\n",
       "       ['68616519.0', '21600.0', '21600.0', ..., '3.0', '0.0', '2.0']], dtype='<U32')"
      ]
     },
     "execution_count": 144,
     "metadata": {},
     "output_type": "execute_result"
    }
   ],
   "source": [
    "loan_data=np.vstack((header_full,loan_data))\n",
    "loan_data"
   ]
  },
  {
   "cell_type": "code",
   "execution_count": 145,
   "id": "8772a28b-43ba-4cda-aeb3-1ff6489c072b",
   "metadata": {},
   "outputs": [],
   "source": [
    "np.savetxt(\"loan-data-preproceesed.csv\",loan_data,\n",
    "           fmt=\"%s\",\n",
    "           delimiter=',')"
   ]
  },
  {
   "cell_type": "code",
   "execution_count": null,
   "id": "a9ed61d7-05af-4451-b9aa-f9e7c7b07bbd",
   "metadata": {},
   "outputs": [],
   "source": []
  },
  {
   "cell_type": "code",
   "execution_count": null,
   "id": "a87977dc-55ba-4ff4-ba84-8019c1e31efa",
   "metadata": {},
   "outputs": [],
   "source": []
  }
 ],
 "metadata": {
  "kernelspec": {
   "display_name": "Python 3 (ipykernel)",
   "language": "python",
   "name": "python3"
  },
  "language_info": {
   "codemirror_mode": {
    "name": "ipython",
    "version": 3
   },
   "file_extension": ".py",
   "mimetype": "text/x-python",
   "name": "python",
   "nbconvert_exporter": "python",
   "pygments_lexer": "ipython3",
   "version": "3.11.7"
  }
 },
 "nbformat": 4,
 "nbformat_minor": 5
}
